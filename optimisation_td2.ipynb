{
 "cells": [
  {
   "cell_type": "markdown",
   "metadata": {},
   "source": [
    "# Import libraries"
   ]
  },
  {
   "cell_type": "code",
   "execution_count": 98,
   "metadata": {},
   "outputs": [],
   "source": [
    "#Basics\n",
    "import numpy as np\n",
    "import pandas as pd\n",
    "import matplotlib.pyplot as plt\n",
    "import seaborn as sns\n",
    "\n",
    "# Models \n",
    "from sklearn.linear_model import LinearRegression\n",
    "from sklearn.preprocessing import LabelEncoder,StandardScaler\n",
    "from sklearn.model_selection import cross_val_score,train_test_split\n",
    "from sklearn.model_selection import RepeatedStratifiedKFold\n",
    "from sklearn.svm import LinearSVC\n",
    "from sklearn.ensemble import GradientBoostingRegressor, RandomForestRegressor"
   ]
  },
  {
   "cell_type": "markdown",
   "metadata": {},
   "source": [
    "# Import dataset"
   ]
  },
  {
   "cell_type": "code",
   "execution_count": 81,
   "metadata": {},
   "outputs": [],
   "source": [
    "df=pd.read_csv('data immobilier.csv')"
   ]
  },
  {
   "cell_type": "code",
   "execution_count": 82,
   "metadata": {
    "scrolled": true
   },
   "outputs": [
    {
     "data": {
      "text/html": [
       "<div>\n",
       "<style scoped>\n",
       "    .dataframe tbody tr th:only-of-type {\n",
       "        vertical-align: middle;\n",
       "    }\n",
       "\n",
       "    .dataframe tbody tr th {\n",
       "        vertical-align: top;\n",
       "    }\n",
       "\n",
       "    .dataframe thead th {\n",
       "        text-align: right;\n",
       "    }\n",
       "</style>\n",
       "<table border=\"1\" class=\"dataframe\">\n",
       "  <thead>\n",
       "    <tr style=\"text-align: right;\">\n",
       "      <th></th>\n",
       "      <th>Id</th>\n",
       "      <th>MSSubClass</th>\n",
       "      <th>MSZoning</th>\n",
       "      <th>LotFrontage</th>\n",
       "      <th>LotArea</th>\n",
       "      <th>Street</th>\n",
       "      <th>Alley</th>\n",
       "      <th>LotShape</th>\n",
       "      <th>LandContour</th>\n",
       "      <th>Utilities</th>\n",
       "      <th>...</th>\n",
       "      <th>PoolArea</th>\n",
       "      <th>PoolQC</th>\n",
       "      <th>Fence</th>\n",
       "      <th>MiscFeature</th>\n",
       "      <th>MiscVal</th>\n",
       "      <th>MoSold</th>\n",
       "      <th>YrSold</th>\n",
       "      <th>SaleType</th>\n",
       "      <th>SaleCondition</th>\n",
       "      <th>SalePrice</th>\n",
       "    </tr>\n",
       "  </thead>\n",
       "  <tbody>\n",
       "    <tr>\n",
       "      <th>0</th>\n",
       "      <td>1</td>\n",
       "      <td>60</td>\n",
       "      <td>RL</td>\n",
       "      <td>65.0</td>\n",
       "      <td>8450</td>\n",
       "      <td>Pave</td>\n",
       "      <td>NaN</td>\n",
       "      <td>Reg</td>\n",
       "      <td>Lvl</td>\n",
       "      <td>AllPub</td>\n",
       "      <td>...</td>\n",
       "      <td>0</td>\n",
       "      <td>NaN</td>\n",
       "      <td>NaN</td>\n",
       "      <td>NaN</td>\n",
       "      <td>0</td>\n",
       "      <td>2</td>\n",
       "      <td>2008</td>\n",
       "      <td>WD</td>\n",
       "      <td>Normal</td>\n",
       "      <td>208500</td>\n",
       "    </tr>\n",
       "    <tr>\n",
       "      <th>1</th>\n",
       "      <td>2</td>\n",
       "      <td>20</td>\n",
       "      <td>RL</td>\n",
       "      <td>80.0</td>\n",
       "      <td>9600</td>\n",
       "      <td>Pave</td>\n",
       "      <td>NaN</td>\n",
       "      <td>Reg</td>\n",
       "      <td>Lvl</td>\n",
       "      <td>AllPub</td>\n",
       "      <td>...</td>\n",
       "      <td>0</td>\n",
       "      <td>NaN</td>\n",
       "      <td>NaN</td>\n",
       "      <td>NaN</td>\n",
       "      <td>0</td>\n",
       "      <td>5</td>\n",
       "      <td>2007</td>\n",
       "      <td>WD</td>\n",
       "      <td>Normal</td>\n",
       "      <td>181500</td>\n",
       "    </tr>\n",
       "    <tr>\n",
       "      <th>2</th>\n",
       "      <td>3</td>\n",
       "      <td>60</td>\n",
       "      <td>RL</td>\n",
       "      <td>68.0</td>\n",
       "      <td>11250</td>\n",
       "      <td>Pave</td>\n",
       "      <td>NaN</td>\n",
       "      <td>IR1</td>\n",
       "      <td>Lvl</td>\n",
       "      <td>AllPub</td>\n",
       "      <td>...</td>\n",
       "      <td>0</td>\n",
       "      <td>NaN</td>\n",
       "      <td>NaN</td>\n",
       "      <td>NaN</td>\n",
       "      <td>0</td>\n",
       "      <td>9</td>\n",
       "      <td>2008</td>\n",
       "      <td>WD</td>\n",
       "      <td>Normal</td>\n",
       "      <td>223500</td>\n",
       "    </tr>\n",
       "    <tr>\n",
       "      <th>3</th>\n",
       "      <td>4</td>\n",
       "      <td>70</td>\n",
       "      <td>RL</td>\n",
       "      <td>60.0</td>\n",
       "      <td>9550</td>\n",
       "      <td>Pave</td>\n",
       "      <td>NaN</td>\n",
       "      <td>IR1</td>\n",
       "      <td>Lvl</td>\n",
       "      <td>AllPub</td>\n",
       "      <td>...</td>\n",
       "      <td>0</td>\n",
       "      <td>NaN</td>\n",
       "      <td>NaN</td>\n",
       "      <td>NaN</td>\n",
       "      <td>0</td>\n",
       "      <td>2</td>\n",
       "      <td>2006</td>\n",
       "      <td>WD</td>\n",
       "      <td>Abnorml</td>\n",
       "      <td>140000</td>\n",
       "    </tr>\n",
       "    <tr>\n",
       "      <th>4</th>\n",
       "      <td>5</td>\n",
       "      <td>60</td>\n",
       "      <td>RL</td>\n",
       "      <td>84.0</td>\n",
       "      <td>14260</td>\n",
       "      <td>Pave</td>\n",
       "      <td>NaN</td>\n",
       "      <td>IR1</td>\n",
       "      <td>Lvl</td>\n",
       "      <td>AllPub</td>\n",
       "      <td>...</td>\n",
       "      <td>0</td>\n",
       "      <td>NaN</td>\n",
       "      <td>NaN</td>\n",
       "      <td>NaN</td>\n",
       "      <td>0</td>\n",
       "      <td>12</td>\n",
       "      <td>2008</td>\n",
       "      <td>WD</td>\n",
       "      <td>Normal</td>\n",
       "      <td>250000</td>\n",
       "    </tr>\n",
       "  </tbody>\n",
       "</table>\n",
       "<p>5 rows × 81 columns</p>\n",
       "</div>"
      ],
      "text/plain": [
       "   Id  MSSubClass MSZoning  LotFrontage  LotArea Street Alley LotShape  \\\n",
       "0   1          60       RL         65.0     8450   Pave   NaN      Reg   \n",
       "1   2          20       RL         80.0     9600   Pave   NaN      Reg   \n",
       "2   3          60       RL         68.0    11250   Pave   NaN      IR1   \n",
       "3   4          70       RL         60.0     9550   Pave   NaN      IR1   \n",
       "4   5          60       RL         84.0    14260   Pave   NaN      IR1   \n",
       "\n",
       "  LandContour Utilities  ... PoolArea PoolQC Fence MiscFeature MiscVal MoSold  \\\n",
       "0         Lvl    AllPub  ...        0    NaN   NaN         NaN       0      2   \n",
       "1         Lvl    AllPub  ...        0    NaN   NaN         NaN       0      5   \n",
       "2         Lvl    AllPub  ...        0    NaN   NaN         NaN       0      9   \n",
       "3         Lvl    AllPub  ...        0    NaN   NaN         NaN       0      2   \n",
       "4         Lvl    AllPub  ...        0    NaN   NaN         NaN       0     12   \n",
       "\n",
       "  YrSold  SaleType  SaleCondition  SalePrice  \n",
       "0   2008        WD         Normal     208500  \n",
       "1   2007        WD         Normal     181500  \n",
       "2   2008        WD         Normal     223500  \n",
       "3   2006        WD        Abnorml     140000  \n",
       "4   2008        WD         Normal     250000  \n",
       "\n",
       "[5 rows x 81 columns]"
      ]
     },
     "execution_count": 82,
     "metadata": {},
     "output_type": "execute_result"
    }
   ],
   "source": [
    "df.head()"
   ]
  },
  {
   "cell_type": "code",
   "execution_count": 83,
   "metadata": {},
   "outputs": [
    {
     "data": {
      "text/plain": [
       "(1460, 81)"
      ]
     },
     "execution_count": 83,
     "metadata": {},
     "output_type": "execute_result"
    }
   ],
   "source": [
    "df.shape"
   ]
  },
  {
   "cell_type": "markdown",
   "metadata": {},
   "source": [
    "# Step 1 : Exploratory Data Analysis and Preprocessing"
   ]
  },
  {
   "cell_type": "code",
   "execution_count": 4,
   "metadata": {},
   "outputs": [
    {
     "name": "stdout",
     "output_type": "stream",
     "text": [
      "The DataFrame contains 1460 lines and 81 columns.\n"
     ]
    }
   ],
   "source": [
    "print('The DataFrame contains {} lines and {} columns.'.format(df.shape[0],df.shape[1]))"
   ]
  },
  {
   "cell_type": "code",
   "execution_count": 48,
   "metadata": {},
   "outputs": [
    {
     "name": "stdout",
     "output_type": "stream",
     "text": [
      "The dataframe contains 38 numerical columns and 43 non numerical columns\n"
     ]
    }
   ],
   "source": [
    "cpt=0\n",
    "for i in df.dtypes:\n",
    "    if i != type(object):\n",
    "        cpt+=1\n",
    "        \n",
    "print(f\"The dataframe contains {cpt} numerical columns and {df.shape[1]-cpt} non numerical columns\") # nb colonnes contenant valeurs numériques"
   ]
  },
  {
   "cell_type": "code",
   "execution_count": 49,
   "metadata": {},
   "outputs": [
    {
     "data": {
      "text/html": [
       "<div>\n",
       "<style scoped>\n",
       "    .dataframe tbody tr th:only-of-type {\n",
       "        vertical-align: middle;\n",
       "    }\n",
       "\n",
       "    .dataframe tbody tr th {\n",
       "        vertical-align: top;\n",
       "    }\n",
       "\n",
       "    .dataframe thead th {\n",
       "        text-align: right;\n",
       "    }\n",
       "</style>\n",
       "<table border=\"1\" class=\"dataframe\">\n",
       "  <thead>\n",
       "    <tr style=\"text-align: right;\">\n",
       "      <th></th>\n",
       "      <th>Id</th>\n",
       "      <th>MSSubClass</th>\n",
       "      <th>LotFrontage</th>\n",
       "      <th>LotArea</th>\n",
       "      <th>OverallQual</th>\n",
       "      <th>OverallCond</th>\n",
       "      <th>YearBuilt</th>\n",
       "      <th>YearRemodAdd</th>\n",
       "      <th>MasVnrArea</th>\n",
       "      <th>BsmtFinSF1</th>\n",
       "      <th>...</th>\n",
       "      <th>WoodDeckSF</th>\n",
       "      <th>OpenPorchSF</th>\n",
       "      <th>EnclosedPorch</th>\n",
       "      <th>3SsnPorch</th>\n",
       "      <th>ScreenPorch</th>\n",
       "      <th>PoolArea</th>\n",
       "      <th>MiscVal</th>\n",
       "      <th>MoSold</th>\n",
       "      <th>YrSold</th>\n",
       "      <th>SalePrice</th>\n",
       "    </tr>\n",
       "  </thead>\n",
       "  <tbody>\n",
       "    <tr>\n",
       "      <th>count</th>\n",
       "      <td>1460.000000</td>\n",
       "      <td>1460.000000</td>\n",
       "      <td>1201.000000</td>\n",
       "      <td>1460.000000</td>\n",
       "      <td>1460.000000</td>\n",
       "      <td>1460.000000</td>\n",
       "      <td>1460.000000</td>\n",
       "      <td>1460.000000</td>\n",
       "      <td>1452.000000</td>\n",
       "      <td>1460.000000</td>\n",
       "      <td>...</td>\n",
       "      <td>1460.000000</td>\n",
       "      <td>1460.000000</td>\n",
       "      <td>1460.000000</td>\n",
       "      <td>1460.000000</td>\n",
       "      <td>1460.000000</td>\n",
       "      <td>1460.000000</td>\n",
       "      <td>1460.000000</td>\n",
       "      <td>1460.000000</td>\n",
       "      <td>1460.000000</td>\n",
       "      <td>1460.000000</td>\n",
       "    </tr>\n",
       "    <tr>\n",
       "      <th>mean</th>\n",
       "      <td>730.500000</td>\n",
       "      <td>56.897260</td>\n",
       "      <td>70.049958</td>\n",
       "      <td>10516.828082</td>\n",
       "      <td>6.099315</td>\n",
       "      <td>5.575342</td>\n",
       "      <td>1971.267808</td>\n",
       "      <td>1984.865753</td>\n",
       "      <td>103.685262</td>\n",
       "      <td>443.639726</td>\n",
       "      <td>...</td>\n",
       "      <td>94.244521</td>\n",
       "      <td>46.660274</td>\n",
       "      <td>21.954110</td>\n",
       "      <td>3.409589</td>\n",
       "      <td>15.060959</td>\n",
       "      <td>2.758904</td>\n",
       "      <td>43.489041</td>\n",
       "      <td>6.321918</td>\n",
       "      <td>2007.815753</td>\n",
       "      <td>180921.195890</td>\n",
       "    </tr>\n",
       "    <tr>\n",
       "      <th>std</th>\n",
       "      <td>421.610009</td>\n",
       "      <td>42.300571</td>\n",
       "      <td>24.284752</td>\n",
       "      <td>9981.264932</td>\n",
       "      <td>1.382997</td>\n",
       "      <td>1.112799</td>\n",
       "      <td>30.202904</td>\n",
       "      <td>20.645407</td>\n",
       "      <td>181.066207</td>\n",
       "      <td>456.098091</td>\n",
       "      <td>...</td>\n",
       "      <td>125.338794</td>\n",
       "      <td>66.256028</td>\n",
       "      <td>61.119149</td>\n",
       "      <td>29.317331</td>\n",
       "      <td>55.757415</td>\n",
       "      <td>40.177307</td>\n",
       "      <td>496.123024</td>\n",
       "      <td>2.703626</td>\n",
       "      <td>1.328095</td>\n",
       "      <td>79442.502883</td>\n",
       "    </tr>\n",
       "    <tr>\n",
       "      <th>min</th>\n",
       "      <td>1.000000</td>\n",
       "      <td>20.000000</td>\n",
       "      <td>21.000000</td>\n",
       "      <td>1300.000000</td>\n",
       "      <td>1.000000</td>\n",
       "      <td>1.000000</td>\n",
       "      <td>1872.000000</td>\n",
       "      <td>1950.000000</td>\n",
       "      <td>0.000000</td>\n",
       "      <td>0.000000</td>\n",
       "      <td>...</td>\n",
       "      <td>0.000000</td>\n",
       "      <td>0.000000</td>\n",
       "      <td>0.000000</td>\n",
       "      <td>0.000000</td>\n",
       "      <td>0.000000</td>\n",
       "      <td>0.000000</td>\n",
       "      <td>0.000000</td>\n",
       "      <td>1.000000</td>\n",
       "      <td>2006.000000</td>\n",
       "      <td>34900.000000</td>\n",
       "    </tr>\n",
       "    <tr>\n",
       "      <th>25%</th>\n",
       "      <td>365.750000</td>\n",
       "      <td>20.000000</td>\n",
       "      <td>59.000000</td>\n",
       "      <td>7553.500000</td>\n",
       "      <td>5.000000</td>\n",
       "      <td>5.000000</td>\n",
       "      <td>1954.000000</td>\n",
       "      <td>1967.000000</td>\n",
       "      <td>0.000000</td>\n",
       "      <td>0.000000</td>\n",
       "      <td>...</td>\n",
       "      <td>0.000000</td>\n",
       "      <td>0.000000</td>\n",
       "      <td>0.000000</td>\n",
       "      <td>0.000000</td>\n",
       "      <td>0.000000</td>\n",
       "      <td>0.000000</td>\n",
       "      <td>0.000000</td>\n",
       "      <td>5.000000</td>\n",
       "      <td>2007.000000</td>\n",
       "      <td>129975.000000</td>\n",
       "    </tr>\n",
       "    <tr>\n",
       "      <th>50%</th>\n",
       "      <td>730.500000</td>\n",
       "      <td>50.000000</td>\n",
       "      <td>69.000000</td>\n",
       "      <td>9478.500000</td>\n",
       "      <td>6.000000</td>\n",
       "      <td>5.000000</td>\n",
       "      <td>1973.000000</td>\n",
       "      <td>1994.000000</td>\n",
       "      <td>0.000000</td>\n",
       "      <td>383.500000</td>\n",
       "      <td>...</td>\n",
       "      <td>0.000000</td>\n",
       "      <td>25.000000</td>\n",
       "      <td>0.000000</td>\n",
       "      <td>0.000000</td>\n",
       "      <td>0.000000</td>\n",
       "      <td>0.000000</td>\n",
       "      <td>0.000000</td>\n",
       "      <td>6.000000</td>\n",
       "      <td>2008.000000</td>\n",
       "      <td>163000.000000</td>\n",
       "    </tr>\n",
       "    <tr>\n",
       "      <th>75%</th>\n",
       "      <td>1095.250000</td>\n",
       "      <td>70.000000</td>\n",
       "      <td>80.000000</td>\n",
       "      <td>11601.500000</td>\n",
       "      <td>7.000000</td>\n",
       "      <td>6.000000</td>\n",
       "      <td>2000.000000</td>\n",
       "      <td>2004.000000</td>\n",
       "      <td>166.000000</td>\n",
       "      <td>712.250000</td>\n",
       "      <td>...</td>\n",
       "      <td>168.000000</td>\n",
       "      <td>68.000000</td>\n",
       "      <td>0.000000</td>\n",
       "      <td>0.000000</td>\n",
       "      <td>0.000000</td>\n",
       "      <td>0.000000</td>\n",
       "      <td>0.000000</td>\n",
       "      <td>8.000000</td>\n",
       "      <td>2009.000000</td>\n",
       "      <td>214000.000000</td>\n",
       "    </tr>\n",
       "    <tr>\n",
       "      <th>max</th>\n",
       "      <td>1460.000000</td>\n",
       "      <td>190.000000</td>\n",
       "      <td>313.000000</td>\n",
       "      <td>215245.000000</td>\n",
       "      <td>10.000000</td>\n",
       "      <td>9.000000</td>\n",
       "      <td>2010.000000</td>\n",
       "      <td>2010.000000</td>\n",
       "      <td>1600.000000</td>\n",
       "      <td>5644.000000</td>\n",
       "      <td>...</td>\n",
       "      <td>857.000000</td>\n",
       "      <td>547.000000</td>\n",
       "      <td>552.000000</td>\n",
       "      <td>508.000000</td>\n",
       "      <td>480.000000</td>\n",
       "      <td>738.000000</td>\n",
       "      <td>15500.000000</td>\n",
       "      <td>12.000000</td>\n",
       "      <td>2010.000000</td>\n",
       "      <td>755000.000000</td>\n",
       "    </tr>\n",
       "  </tbody>\n",
       "</table>\n",
       "<p>8 rows × 38 columns</p>\n",
       "</div>"
      ],
      "text/plain": [
       "                Id   MSSubClass  LotFrontage        LotArea  OverallQual  \\\n",
       "count  1460.000000  1460.000000  1201.000000    1460.000000  1460.000000   \n",
       "mean    730.500000    56.897260    70.049958   10516.828082     6.099315   \n",
       "std     421.610009    42.300571    24.284752    9981.264932     1.382997   \n",
       "min       1.000000    20.000000    21.000000    1300.000000     1.000000   \n",
       "25%     365.750000    20.000000    59.000000    7553.500000     5.000000   \n",
       "50%     730.500000    50.000000    69.000000    9478.500000     6.000000   \n",
       "75%    1095.250000    70.000000    80.000000   11601.500000     7.000000   \n",
       "max    1460.000000   190.000000   313.000000  215245.000000    10.000000   \n",
       "\n",
       "       OverallCond    YearBuilt  YearRemodAdd   MasVnrArea   BsmtFinSF1  ...  \\\n",
       "count  1460.000000  1460.000000   1460.000000  1452.000000  1460.000000  ...   \n",
       "mean      5.575342  1971.267808   1984.865753   103.685262   443.639726  ...   \n",
       "std       1.112799    30.202904     20.645407   181.066207   456.098091  ...   \n",
       "min       1.000000  1872.000000   1950.000000     0.000000     0.000000  ...   \n",
       "25%       5.000000  1954.000000   1967.000000     0.000000     0.000000  ...   \n",
       "50%       5.000000  1973.000000   1994.000000     0.000000   383.500000  ...   \n",
       "75%       6.000000  2000.000000   2004.000000   166.000000   712.250000  ...   \n",
       "max       9.000000  2010.000000   2010.000000  1600.000000  5644.000000  ...   \n",
       "\n",
       "        WoodDeckSF  OpenPorchSF  EnclosedPorch    3SsnPorch  ScreenPorch  \\\n",
       "count  1460.000000  1460.000000    1460.000000  1460.000000  1460.000000   \n",
       "mean     94.244521    46.660274      21.954110     3.409589    15.060959   \n",
       "std     125.338794    66.256028      61.119149    29.317331    55.757415   \n",
       "min       0.000000     0.000000       0.000000     0.000000     0.000000   \n",
       "25%       0.000000     0.000000       0.000000     0.000000     0.000000   \n",
       "50%       0.000000    25.000000       0.000000     0.000000     0.000000   \n",
       "75%     168.000000    68.000000       0.000000     0.000000     0.000000   \n",
       "max     857.000000   547.000000     552.000000   508.000000   480.000000   \n",
       "\n",
       "          PoolArea       MiscVal       MoSold       YrSold      SalePrice  \n",
       "count  1460.000000   1460.000000  1460.000000  1460.000000    1460.000000  \n",
       "mean      2.758904     43.489041     6.321918  2007.815753  180921.195890  \n",
       "std      40.177307    496.123024     2.703626     1.328095   79442.502883  \n",
       "min       0.000000      0.000000     1.000000  2006.000000   34900.000000  \n",
       "25%       0.000000      0.000000     5.000000  2007.000000  129975.000000  \n",
       "50%       0.000000      0.000000     6.000000  2008.000000  163000.000000  \n",
       "75%       0.000000      0.000000     8.000000  2009.000000  214000.000000  \n",
       "max     738.000000  15500.000000    12.000000  2010.000000  755000.000000  \n",
       "\n",
       "[8 rows x 38 columns]"
      ]
     },
     "execution_count": 49,
     "metadata": {},
     "output_type": "execute_result"
    }
   ],
   "source": [
    "df.describe()"
   ]
  },
  {
   "cell_type": "code",
   "execution_count": 7,
   "metadata": {},
   "outputs": [
    {
     "name": "stdout",
     "output_type": "stream",
     "text": [
      "Nombre de valeurs nulles colonnes :\n",
      "\n",
      "    - LotFrontage : 259\n",
      "    - Alley : 1369\n",
      "    - MasVnrType : 8\n",
      "    - MasVnrArea : 8\n",
      "    - BsmtQual : 37\n",
      "    - BsmtCond : 37\n",
      "    - BsmtExposure : 38\n",
      "    - BsmtFinType1 : 37\n",
      "    - BsmtFinType2 : 38\n",
      "    - Electrical : 1\n",
      "    - FireplaceQu : 690\n",
      "    - GarageType : 81\n",
      "    - GarageYrBlt : 81\n",
      "    - GarageFinish : 81\n",
      "    - GarageQual : 81\n",
      "    - GarageCond : 81\n",
      "    - PoolQC : 1453\n",
      "    - Fence : 1179\n",
      "    - MiscFeature : 1406\n"
     ]
    }
   ],
   "source": [
    "print('Nombre de valeurs nulles colonnes :\\n')\n",
    "for col in df.columns:\n",
    "    res = sum(df[col].isnull())\n",
    "    if res>0:\n",
    "    \n",
    "        print(f'    - {col} : {res}')"
   ]
  },
  {
   "cell_type": "code",
   "execution_count": 8,
   "metadata": {
    "scrolled": false
   },
   "outputs": [
    {
     "data": {
      "text/html": [
       "<style  type=\"text/css\" >\n",
       "#T_d7849bf6_44a8_11ec_91dd_e02be9f13799row0_col0{\n",
       "            background-color:  #ff0000;\n",
       "            color:  #f1f1f1;\n",
       "        }#T_d7849bf6_44a8_11ec_91dd_e02be9f13799row1_col0{\n",
       "            background-color:  #fd2c2c;\n",
       "            color:  #f1f1f1;\n",
       "        }#T_d7849bf6_44a8_11ec_91dd_e02be9f13799row2_col0{\n",
       "            background-color:  #fc3d3d;\n",
       "            color:  #f1f1f1;\n",
       "        }#T_d7849bf6_44a8_11ec_91dd_e02be9f13799row3_col0{\n",
       "            background-color:  #fb4c4c;\n",
       "            color:  #000000;\n",
       "        }#T_d7849bf6_44a8_11ec_91dd_e02be9f13799row4_col0{\n",
       "            background-color:  #fb4f4f;\n",
       "            color:  #000000;\n",
       "        }#T_d7849bf6_44a8_11ec_91dd_e02be9f13799row5_col0{\n",
       "            background-color:  #fb5252;\n",
       "            color:  #000000;\n",
       "        }#T_d7849bf6_44a8_11ec_91dd_e02be9f13799row6_col0{\n",
       "            background-color:  #fb5353;\n",
       "            color:  #000000;\n",
       "        }#T_d7849bf6_44a8_11ec_91dd_e02be9f13799row7_col0{\n",
       "            background-color:  #fa5d5d;\n",
       "            color:  #000000;\n",
       "        }#T_d7849bf6_44a8_11ec_91dd_e02be9f13799row8_col0{\n",
       "            background-color:  #fa6363;\n",
       "            color:  #000000;\n",
       "        }#T_d7849bf6_44a8_11ec_91dd_e02be9f13799row9_col0{\n",
       "            background-color:  #fa6565;\n",
       "            color:  #000000;\n",
       "        }#T_d7849bf6_44a8_11ec_91dd_e02be9f13799row10_col0{\n",
       "            background-color:  #fa6868;\n",
       "            color:  #000000;\n",
       "        }#T_d7849bf6_44a8_11ec_91dd_e02be9f13799row11_col0{\n",
       "            background-color:  #fa6c6c;\n",
       "            color:  #000000;\n",
       "        }#T_d7849bf6_44a8_11ec_91dd_e02be9f13799row12_col0{\n",
       "            background-color:  #f96e6e;\n",
       "            color:  #000000;\n",
       "        }#T_d7849bf6_44a8_11ec_91dd_e02be9f13799row13_col0{\n",
       "            background-color:  #f97171;\n",
       "            color:  #000000;\n",
       "        }#T_d7849bf6_44a8_11ec_91dd_e02be9f13799row14_col0{\n",
       "            background-color:  #f88282;\n",
       "            color:  #000000;\n",
       "        }#T_d7849bf6_44a8_11ec_91dd_e02be9f13799row15_col0{\n",
       "            background-color:  #f88989;\n",
       "            color:  #000000;\n",
       "        }#T_d7849bf6_44a8_11ec_91dd_e02be9f13799row16_col0{\n",
       "            background-color:  #f88f8f;\n",
       "            color:  #000000;\n",
       "        }#T_d7849bf6_44a8_11ec_91dd_e02be9f13799row17_col0{\n",
       "            background-color:  #f89090;\n",
       "            color:  #000000;\n",
       "        }#T_d7849bf6_44a8_11ec_91dd_e02be9f13799row18_col0{\n",
       "            background-color:  #f89191;\n",
       "            color:  #000000;\n",
       "        }#T_d7849bf6_44a8_11ec_91dd_e02be9f13799row19_col0{\n",
       "            background-color:  #f79897;\n",
       "            color:  #000000;\n",
       "        }#T_d7849bf6_44a8_11ec_91dd_e02be9f13799row20_col0{\n",
       "            background-color:  #f79b9b;\n",
       "            color:  #000000;\n",
       "        }#T_d7849bf6_44a8_11ec_91dd_e02be9f13799row21_col0{\n",
       "            background-color:  #f7a4a4;\n",
       "            color:  #000000;\n",
       "        }#T_d7849bf6_44a8_11ec_91dd_e02be9f13799row22_col0{\n",
       "            background-color:  #f7a7a7;\n",
       "            color:  #000000;\n",
       "        }#T_d7849bf6_44a8_11ec_91dd_e02be9f13799row23_col0{\n",
       "            background-color:  #f6b0b0;\n",
       "            color:  #000000;\n",
       "        }#T_d7849bf6_44a8_11ec_91dd_e02be9f13799row24_col0{\n",
       "            background-color:  #f5bcbc;\n",
       "            color:  #000000;\n",
       "        }#T_d7849bf6_44a8_11ec_91dd_e02be9f13799row25_col0{\n",
       "            background-color:  #f5c0c0;\n",
       "            color:  #000000;\n",
       "        }#T_d7849bf6_44a8_11ec_91dd_e02be9f13799row26_col0{\n",
       "            background-color:  #f5c9c9;\n",
       "            color:  #000000;\n",
       "        }#T_d7849bf6_44a8_11ec_91dd_e02be9f13799row27_col0{\n",
       "            background-color:  #f5caca;\n",
       "            color:  #000000;\n",
       "        }#T_d7849bf6_44a8_11ec_91dd_e02be9f13799row28_col0{\n",
       "            background-color:  #f4d6d6;\n",
       "            color:  #000000;\n",
       "        }#T_d7849bf6_44a8_11ec_91dd_e02be9f13799row29_col0{\n",
       "            background-color:  #f4d8d7;\n",
       "            color:  #000000;\n",
       "        }#T_d7849bf6_44a8_11ec_91dd_e02be9f13799row30_col0,#T_d7849bf6_44a8_11ec_91dd_e02be9f13799row31_col0{\n",
       "            background-color:  #f4d8d8;\n",
       "            color:  #000000;\n",
       "        }#T_d7849bf6_44a8_11ec_91dd_e02be9f13799row32_col0,#T_d7849bf6_44a8_11ec_91dd_e02be9f13799row33_col0{\n",
       "            background-color:  #f4d9d9;\n",
       "            color:  #000000;\n",
       "        }#T_d7849bf6_44a8_11ec_91dd_e02be9f13799row34_col0{\n",
       "            background-color:  #f3e4e4;\n",
       "            color:  #000000;\n",
       "        }#T_d7849bf6_44a8_11ec_91dd_e02be9f13799row35_col0{\n",
       "            background-color:  #f3e6e6;\n",
       "            color:  #000000;\n",
       "        }#T_d7849bf6_44a8_11ec_91dd_e02be9f13799row36_col0{\n",
       "            background-color:  #f3efef;\n",
       "            color:  #000000;\n",
       "        }#T_d7849bf6_44a8_11ec_91dd_e02be9f13799row37_col0{\n",
       "            background-color:  #f3f0f0;\n",
       "            color:  #000000;\n",
       "        }</style><table id=\"T_d7849bf6_44a8_11ec_91dd_e02be9f13799\" ><thead>    <tr>        <th class=\"blank level0\" ></th>        <th class=\"col_heading level0 col0\" >Correlation to the target</th>    </tr></thead><tbody>\n",
       "                <tr>\n",
       "                        <th id=\"T_d7849bf6_44a8_11ec_91dd_e02be9f13799level0_row0\" class=\"row_heading level0 row0\" >SalePrice</th>\n",
       "                        <td id=\"T_d7849bf6_44a8_11ec_91dd_e02be9f13799row0_col0\" class=\"data row0 col0\" >1.000000</td>\n",
       "            </tr>\n",
       "            <tr>\n",
       "                        <th id=\"T_d7849bf6_44a8_11ec_91dd_e02be9f13799level0_row1\" class=\"row_heading level0 row1\" >OverallQual</th>\n",
       "                        <td id=\"T_d7849bf6_44a8_11ec_91dd_e02be9f13799row1_col0\" class=\"data row1 col0\" >0.790982</td>\n",
       "            </tr>\n",
       "            <tr>\n",
       "                        <th id=\"T_d7849bf6_44a8_11ec_91dd_e02be9f13799level0_row2\" class=\"row_heading level0 row2\" >GrLivArea</th>\n",
       "                        <td id=\"T_d7849bf6_44a8_11ec_91dd_e02be9f13799row2_col0\" class=\"data row2 col0\" >0.708624</td>\n",
       "            </tr>\n",
       "            <tr>\n",
       "                        <th id=\"T_d7849bf6_44a8_11ec_91dd_e02be9f13799level0_row3\" class=\"row_heading level0 row3\" >GarageCars</th>\n",
       "                        <td id=\"T_d7849bf6_44a8_11ec_91dd_e02be9f13799row3_col0\" class=\"data row3 col0\" >0.640409</td>\n",
       "            </tr>\n",
       "            <tr>\n",
       "                        <th id=\"T_d7849bf6_44a8_11ec_91dd_e02be9f13799level0_row4\" class=\"row_heading level0 row4\" >GarageArea</th>\n",
       "                        <td id=\"T_d7849bf6_44a8_11ec_91dd_e02be9f13799row4_col0\" class=\"data row4 col0\" >0.623431</td>\n",
       "            </tr>\n",
       "            <tr>\n",
       "                        <th id=\"T_d7849bf6_44a8_11ec_91dd_e02be9f13799level0_row5\" class=\"row_heading level0 row5\" >TotalBsmtSF</th>\n",
       "                        <td id=\"T_d7849bf6_44a8_11ec_91dd_e02be9f13799row5_col0\" class=\"data row5 col0\" >0.613581</td>\n",
       "            </tr>\n",
       "            <tr>\n",
       "                        <th id=\"T_d7849bf6_44a8_11ec_91dd_e02be9f13799level0_row6\" class=\"row_heading level0 row6\" >1stFlrSF</th>\n",
       "                        <td id=\"T_d7849bf6_44a8_11ec_91dd_e02be9f13799row6_col0\" class=\"data row6 col0\" >0.605852</td>\n",
       "            </tr>\n",
       "            <tr>\n",
       "                        <th id=\"T_d7849bf6_44a8_11ec_91dd_e02be9f13799level0_row7\" class=\"row_heading level0 row7\" >FullBath</th>\n",
       "                        <td id=\"T_d7849bf6_44a8_11ec_91dd_e02be9f13799row7_col0\" class=\"data row7 col0\" >0.560664</td>\n",
       "            </tr>\n",
       "            <tr>\n",
       "                        <th id=\"T_d7849bf6_44a8_11ec_91dd_e02be9f13799level0_row8\" class=\"row_heading level0 row8\" >TotRmsAbvGrd</th>\n",
       "                        <td id=\"T_d7849bf6_44a8_11ec_91dd_e02be9f13799row8_col0\" class=\"data row8 col0\" >0.533723</td>\n",
       "            </tr>\n",
       "            <tr>\n",
       "                        <th id=\"T_d7849bf6_44a8_11ec_91dd_e02be9f13799level0_row9\" class=\"row_heading level0 row9\" >YearBuilt</th>\n",
       "                        <td id=\"T_d7849bf6_44a8_11ec_91dd_e02be9f13799row9_col0\" class=\"data row9 col0\" >0.522897</td>\n",
       "            </tr>\n",
       "            <tr>\n",
       "                        <th id=\"T_d7849bf6_44a8_11ec_91dd_e02be9f13799level0_row10\" class=\"row_heading level0 row10\" >YearRemodAdd</th>\n",
       "                        <td id=\"T_d7849bf6_44a8_11ec_91dd_e02be9f13799row10_col0\" class=\"data row10 col0\" >0.507101</td>\n",
       "            </tr>\n",
       "            <tr>\n",
       "                        <th id=\"T_d7849bf6_44a8_11ec_91dd_e02be9f13799level0_row11\" class=\"row_heading level0 row11\" >GarageYrBlt</th>\n",
       "                        <td id=\"T_d7849bf6_44a8_11ec_91dd_e02be9f13799row11_col0\" class=\"data row11 col0\" >0.486362</td>\n",
       "            </tr>\n",
       "            <tr>\n",
       "                        <th id=\"T_d7849bf6_44a8_11ec_91dd_e02be9f13799level0_row12\" class=\"row_heading level0 row12\" >MasVnrArea</th>\n",
       "                        <td id=\"T_d7849bf6_44a8_11ec_91dd_e02be9f13799row12_col0\" class=\"data row12 col0\" >0.477493</td>\n",
       "            </tr>\n",
       "            <tr>\n",
       "                        <th id=\"T_d7849bf6_44a8_11ec_91dd_e02be9f13799level0_row13\" class=\"row_heading level0 row13\" >Fireplaces</th>\n",
       "                        <td id=\"T_d7849bf6_44a8_11ec_91dd_e02be9f13799row13_col0\" class=\"data row13 col0\" >0.466929</td>\n",
       "            </tr>\n",
       "            <tr>\n",
       "                        <th id=\"T_d7849bf6_44a8_11ec_91dd_e02be9f13799level0_row14\" class=\"row_heading level0 row14\" >BsmtFinSF1</th>\n",
       "                        <td id=\"T_d7849bf6_44a8_11ec_91dd_e02be9f13799row14_col0\" class=\"data row14 col0\" >0.386420</td>\n",
       "            </tr>\n",
       "            <tr>\n",
       "                        <th id=\"T_d7849bf6_44a8_11ec_91dd_e02be9f13799level0_row15\" class=\"row_heading level0 row15\" >LotFrontage</th>\n",
       "                        <td id=\"T_d7849bf6_44a8_11ec_91dd_e02be9f13799row15_col0\" class=\"data row15 col0\" >0.351799</td>\n",
       "            </tr>\n",
       "            <tr>\n",
       "                        <th id=\"T_d7849bf6_44a8_11ec_91dd_e02be9f13799level0_row16\" class=\"row_heading level0 row16\" >WoodDeckSF</th>\n",
       "                        <td id=\"T_d7849bf6_44a8_11ec_91dd_e02be9f13799row16_col0\" class=\"data row16 col0\" >0.324413</td>\n",
       "            </tr>\n",
       "            <tr>\n",
       "                        <th id=\"T_d7849bf6_44a8_11ec_91dd_e02be9f13799level0_row17\" class=\"row_heading level0 row17\" >2ndFlrSF</th>\n",
       "                        <td id=\"T_d7849bf6_44a8_11ec_91dd_e02be9f13799row17_col0\" class=\"data row17 col0\" >0.319334</td>\n",
       "            </tr>\n",
       "            <tr>\n",
       "                        <th id=\"T_d7849bf6_44a8_11ec_91dd_e02be9f13799level0_row18\" class=\"row_heading level0 row18\" >OpenPorchSF</th>\n",
       "                        <td id=\"T_d7849bf6_44a8_11ec_91dd_e02be9f13799row18_col0\" class=\"data row18 col0\" >0.315856</td>\n",
       "            </tr>\n",
       "            <tr>\n",
       "                        <th id=\"T_d7849bf6_44a8_11ec_91dd_e02be9f13799level0_row19\" class=\"row_heading level0 row19\" >HalfBath</th>\n",
       "                        <td id=\"T_d7849bf6_44a8_11ec_91dd_e02be9f13799row19_col0\" class=\"data row19 col0\" >0.284108</td>\n",
       "            </tr>\n",
       "            <tr>\n",
       "                        <th id=\"T_d7849bf6_44a8_11ec_91dd_e02be9f13799level0_row20\" class=\"row_heading level0 row20\" >LotArea</th>\n",
       "                        <td id=\"T_d7849bf6_44a8_11ec_91dd_e02be9f13799row20_col0\" class=\"data row20 col0\" >0.263843</td>\n",
       "            </tr>\n",
       "            <tr>\n",
       "                        <th id=\"T_d7849bf6_44a8_11ec_91dd_e02be9f13799level0_row21\" class=\"row_heading level0 row21\" >BsmtFullBath</th>\n",
       "                        <td id=\"T_d7849bf6_44a8_11ec_91dd_e02be9f13799row21_col0\" class=\"data row21 col0\" >0.227122</td>\n",
       "            </tr>\n",
       "            <tr>\n",
       "                        <th id=\"T_d7849bf6_44a8_11ec_91dd_e02be9f13799level0_row22\" class=\"row_heading level0 row22\" >BsmtUnfSF</th>\n",
       "                        <td id=\"T_d7849bf6_44a8_11ec_91dd_e02be9f13799row22_col0\" class=\"data row22 col0\" >0.214479</td>\n",
       "            </tr>\n",
       "            <tr>\n",
       "                        <th id=\"T_d7849bf6_44a8_11ec_91dd_e02be9f13799level0_row23\" class=\"row_heading level0 row23\" >BedroomAbvGr</th>\n",
       "                        <td id=\"T_d7849bf6_44a8_11ec_91dd_e02be9f13799row23_col0\" class=\"data row23 col0\" >0.168213</td>\n",
       "            </tr>\n",
       "            <tr>\n",
       "                        <th id=\"T_d7849bf6_44a8_11ec_91dd_e02be9f13799level0_row24\" class=\"row_heading level0 row24\" >ScreenPorch</th>\n",
       "                        <td id=\"T_d7849bf6_44a8_11ec_91dd_e02be9f13799row24_col0\" class=\"data row24 col0\" >0.111447</td>\n",
       "            </tr>\n",
       "            <tr>\n",
       "                        <th id=\"T_d7849bf6_44a8_11ec_91dd_e02be9f13799level0_row25\" class=\"row_heading level0 row25\" >PoolArea</th>\n",
       "                        <td id=\"T_d7849bf6_44a8_11ec_91dd_e02be9f13799row25_col0\" class=\"data row25 col0\" >0.092404</td>\n",
       "            </tr>\n",
       "            <tr>\n",
       "                        <th id=\"T_d7849bf6_44a8_11ec_91dd_e02be9f13799level0_row26\" class=\"row_heading level0 row26\" >MoSold</th>\n",
       "                        <td id=\"T_d7849bf6_44a8_11ec_91dd_e02be9f13799row26_col0\" class=\"data row26 col0\" >0.046432</td>\n",
       "            </tr>\n",
       "            <tr>\n",
       "                        <th id=\"T_d7849bf6_44a8_11ec_91dd_e02be9f13799level0_row27\" class=\"row_heading level0 row27\" >3SsnPorch</th>\n",
       "                        <td id=\"T_d7849bf6_44a8_11ec_91dd_e02be9f13799row27_col0\" class=\"data row27 col0\" >0.044584</td>\n",
       "            </tr>\n",
       "            <tr>\n",
       "                        <th id=\"T_d7849bf6_44a8_11ec_91dd_e02be9f13799level0_row28\" class=\"row_heading level0 row28\" >BsmtFinSF2</th>\n",
       "                        <td id=\"T_d7849bf6_44a8_11ec_91dd_e02be9f13799row28_col0\" class=\"data row28 col0\" >-0.011378</td>\n",
       "            </tr>\n",
       "            <tr>\n",
       "                        <th id=\"T_d7849bf6_44a8_11ec_91dd_e02be9f13799level0_row29\" class=\"row_heading level0 row29\" >BsmtHalfBath</th>\n",
       "                        <td id=\"T_d7849bf6_44a8_11ec_91dd_e02be9f13799row29_col0\" class=\"data row29 col0\" >-0.016844</td>\n",
       "            </tr>\n",
       "            <tr>\n",
       "                        <th id=\"T_d7849bf6_44a8_11ec_91dd_e02be9f13799level0_row30\" class=\"row_heading level0 row30\" >MiscVal</th>\n",
       "                        <td id=\"T_d7849bf6_44a8_11ec_91dd_e02be9f13799row30_col0\" class=\"data row30 col0\" >-0.021190</td>\n",
       "            </tr>\n",
       "            <tr>\n",
       "                        <th id=\"T_d7849bf6_44a8_11ec_91dd_e02be9f13799level0_row31\" class=\"row_heading level0 row31\" >Id</th>\n",
       "                        <td id=\"T_d7849bf6_44a8_11ec_91dd_e02be9f13799row31_col0\" class=\"data row31 col0\" >-0.021917</td>\n",
       "            </tr>\n",
       "            <tr>\n",
       "                        <th id=\"T_d7849bf6_44a8_11ec_91dd_e02be9f13799level0_row32\" class=\"row_heading level0 row32\" >LowQualFinSF</th>\n",
       "                        <td id=\"T_d7849bf6_44a8_11ec_91dd_e02be9f13799row32_col0\" class=\"data row32 col0\" >-0.025606</td>\n",
       "            </tr>\n",
       "            <tr>\n",
       "                        <th id=\"T_d7849bf6_44a8_11ec_91dd_e02be9f13799level0_row33\" class=\"row_heading level0 row33\" >YrSold</th>\n",
       "                        <td id=\"T_d7849bf6_44a8_11ec_91dd_e02be9f13799row33_col0\" class=\"data row33 col0\" >-0.028923</td>\n",
       "            </tr>\n",
       "            <tr>\n",
       "                        <th id=\"T_d7849bf6_44a8_11ec_91dd_e02be9f13799level0_row34\" class=\"row_heading level0 row34\" >OverallCond</th>\n",
       "                        <td id=\"T_d7849bf6_44a8_11ec_91dd_e02be9f13799row34_col0\" class=\"data row34 col0\" >-0.077856</td>\n",
       "            </tr>\n",
       "            <tr>\n",
       "                        <th id=\"T_d7849bf6_44a8_11ec_91dd_e02be9f13799level0_row35\" class=\"row_heading level0 row35\" >MSSubClass</th>\n",
       "                        <td id=\"T_d7849bf6_44a8_11ec_91dd_e02be9f13799row35_col0\" class=\"data row35 col0\" >-0.084284</td>\n",
       "            </tr>\n",
       "            <tr>\n",
       "                        <th id=\"T_d7849bf6_44a8_11ec_91dd_e02be9f13799level0_row36\" class=\"row_heading level0 row36\" >EnclosedPorch</th>\n",
       "                        <td id=\"T_d7849bf6_44a8_11ec_91dd_e02be9f13799row36_col0\" class=\"data row36 col0\" >-0.128578</td>\n",
       "            </tr>\n",
       "            <tr>\n",
       "                        <th id=\"T_d7849bf6_44a8_11ec_91dd_e02be9f13799level0_row37\" class=\"row_heading level0 row37\" >KitchenAbvGr</th>\n",
       "                        <td id=\"T_d7849bf6_44a8_11ec_91dd_e02be9f13799row37_col0\" class=\"data row37 col0\" >-0.135907</td>\n",
       "            </tr>\n",
       "    </tbody></table>"
      ],
      "text/plain": [
       "<pandas.io.formats.style.Styler at 0x2a1941e5cd0>"
      ]
     },
     "execution_count": 8,
     "metadata": {},
     "output_type": "execute_result"
    }
   ],
   "source": [
    "df1Corr=pd.DataFrame(df.corr().unstack().sort_values(ascending=False)['SalePrice'],columns=['Correlation to the target'])\n",
    "df1Corr.style.background_gradient(cmap=sns.light_palette(\"red\", as_cmap=True))"
   ]
  },
  {
   "cell_type": "code",
   "execution_count": 9,
   "metadata": {},
   "outputs": [
    {
     "data": {
      "text/html": [
       "<div>\n",
       "<style scoped>\n",
       "    .dataframe tbody tr th:only-of-type {\n",
       "        vertical-align: middle;\n",
       "    }\n",
       "\n",
       "    .dataframe tbody tr th {\n",
       "        vertical-align: top;\n",
       "    }\n",
       "\n",
       "    .dataframe thead th {\n",
       "        text-align: right;\n",
       "    }\n",
       "</style>\n",
       "<table border=\"1\" class=\"dataframe\">\n",
       "  <thead>\n",
       "    <tr style=\"text-align: right;\">\n",
       "      <th></th>\n",
       "      <th>Id</th>\n",
       "      <th>MSSubClass</th>\n",
       "      <th>MSZoning</th>\n",
       "      <th>LotFrontage</th>\n",
       "      <th>LotArea</th>\n",
       "      <th>Street</th>\n",
       "      <th>Alley</th>\n",
       "      <th>LotShape</th>\n",
       "      <th>LandContour</th>\n",
       "      <th>Utilities</th>\n",
       "      <th>...</th>\n",
       "      <th>PoolArea</th>\n",
       "      <th>PoolQC</th>\n",
       "      <th>Fence</th>\n",
       "      <th>MiscFeature</th>\n",
       "      <th>MiscVal</th>\n",
       "      <th>MoSold</th>\n",
       "      <th>YrSold</th>\n",
       "      <th>SaleType</th>\n",
       "      <th>SaleCondition</th>\n",
       "      <th>SalePrice</th>\n",
       "    </tr>\n",
       "  </thead>\n",
       "  <tbody>\n",
       "    <tr>\n",
       "      <th>0</th>\n",
       "      <td>1</td>\n",
       "      <td>60</td>\n",
       "      <td>RL</td>\n",
       "      <td>65.0</td>\n",
       "      <td>8450</td>\n",
       "      <td>Pave</td>\n",
       "      <td>NaN</td>\n",
       "      <td>Reg</td>\n",
       "      <td>Lvl</td>\n",
       "      <td>AllPub</td>\n",
       "      <td>...</td>\n",
       "      <td>0</td>\n",
       "      <td>NaN</td>\n",
       "      <td>NaN</td>\n",
       "      <td>NaN</td>\n",
       "      <td>0</td>\n",
       "      <td>2</td>\n",
       "      <td>2008</td>\n",
       "      <td>WD</td>\n",
       "      <td>Normal</td>\n",
       "      <td>208500</td>\n",
       "    </tr>\n",
       "    <tr>\n",
       "      <th>1</th>\n",
       "      <td>2</td>\n",
       "      <td>20</td>\n",
       "      <td>RL</td>\n",
       "      <td>80.0</td>\n",
       "      <td>9600</td>\n",
       "      <td>Pave</td>\n",
       "      <td>NaN</td>\n",
       "      <td>Reg</td>\n",
       "      <td>Lvl</td>\n",
       "      <td>AllPub</td>\n",
       "      <td>...</td>\n",
       "      <td>0</td>\n",
       "      <td>NaN</td>\n",
       "      <td>NaN</td>\n",
       "      <td>NaN</td>\n",
       "      <td>0</td>\n",
       "      <td>5</td>\n",
       "      <td>2007</td>\n",
       "      <td>WD</td>\n",
       "      <td>Normal</td>\n",
       "      <td>181500</td>\n",
       "    </tr>\n",
       "    <tr>\n",
       "      <th>2</th>\n",
       "      <td>3</td>\n",
       "      <td>60</td>\n",
       "      <td>RL</td>\n",
       "      <td>68.0</td>\n",
       "      <td>11250</td>\n",
       "      <td>Pave</td>\n",
       "      <td>NaN</td>\n",
       "      <td>IR1</td>\n",
       "      <td>Lvl</td>\n",
       "      <td>AllPub</td>\n",
       "      <td>...</td>\n",
       "      <td>0</td>\n",
       "      <td>NaN</td>\n",
       "      <td>NaN</td>\n",
       "      <td>NaN</td>\n",
       "      <td>0</td>\n",
       "      <td>9</td>\n",
       "      <td>2008</td>\n",
       "      <td>WD</td>\n",
       "      <td>Normal</td>\n",
       "      <td>223500</td>\n",
       "    </tr>\n",
       "    <tr>\n",
       "      <th>3</th>\n",
       "      <td>4</td>\n",
       "      <td>70</td>\n",
       "      <td>RL</td>\n",
       "      <td>60.0</td>\n",
       "      <td>9550</td>\n",
       "      <td>Pave</td>\n",
       "      <td>NaN</td>\n",
       "      <td>IR1</td>\n",
       "      <td>Lvl</td>\n",
       "      <td>AllPub</td>\n",
       "      <td>...</td>\n",
       "      <td>0</td>\n",
       "      <td>NaN</td>\n",
       "      <td>NaN</td>\n",
       "      <td>NaN</td>\n",
       "      <td>0</td>\n",
       "      <td>2</td>\n",
       "      <td>2006</td>\n",
       "      <td>WD</td>\n",
       "      <td>Abnorml</td>\n",
       "      <td>140000</td>\n",
       "    </tr>\n",
       "    <tr>\n",
       "      <th>4</th>\n",
       "      <td>5</td>\n",
       "      <td>60</td>\n",
       "      <td>RL</td>\n",
       "      <td>84.0</td>\n",
       "      <td>14260</td>\n",
       "      <td>Pave</td>\n",
       "      <td>NaN</td>\n",
       "      <td>IR1</td>\n",
       "      <td>Lvl</td>\n",
       "      <td>AllPub</td>\n",
       "      <td>...</td>\n",
       "      <td>0</td>\n",
       "      <td>NaN</td>\n",
       "      <td>NaN</td>\n",
       "      <td>NaN</td>\n",
       "      <td>0</td>\n",
       "      <td>12</td>\n",
       "      <td>2008</td>\n",
       "      <td>WD</td>\n",
       "      <td>Normal</td>\n",
       "      <td>250000</td>\n",
       "    </tr>\n",
       "  </tbody>\n",
       "</table>\n",
       "<p>5 rows × 81 columns</p>\n",
       "</div>"
      ],
      "text/plain": [
       "   Id  MSSubClass MSZoning  LotFrontage  LotArea Street Alley LotShape  \\\n",
       "0   1          60       RL         65.0     8450   Pave   NaN      Reg   \n",
       "1   2          20       RL         80.0     9600   Pave   NaN      Reg   \n",
       "2   3          60       RL         68.0    11250   Pave   NaN      IR1   \n",
       "3   4          70       RL         60.0     9550   Pave   NaN      IR1   \n",
       "4   5          60       RL         84.0    14260   Pave   NaN      IR1   \n",
       "\n",
       "  LandContour Utilities  ... PoolArea PoolQC Fence MiscFeature MiscVal MoSold  \\\n",
       "0         Lvl    AllPub  ...        0    NaN   NaN         NaN       0      2   \n",
       "1         Lvl    AllPub  ...        0    NaN   NaN         NaN       0      5   \n",
       "2         Lvl    AllPub  ...        0    NaN   NaN         NaN       0      9   \n",
       "3         Lvl    AllPub  ...        0    NaN   NaN         NaN       0      2   \n",
       "4         Lvl    AllPub  ...        0    NaN   NaN         NaN       0     12   \n",
       "\n",
       "  YrSold  SaleType  SaleCondition  SalePrice  \n",
       "0   2008        WD         Normal     208500  \n",
       "1   2007        WD         Normal     181500  \n",
       "2   2008        WD         Normal     223500  \n",
       "3   2006        WD        Abnorml     140000  \n",
       "4   2008        WD         Normal     250000  \n",
       "\n",
       "[5 rows x 81 columns]"
      ]
     },
     "execution_count": 9,
     "metadata": {},
     "output_type": "execute_result"
    }
   ],
   "source": [
    "df.head()"
   ]
  },
  {
   "cell_type": "code",
   "execution_count": 10,
   "metadata": {},
   "outputs": [],
   "source": [
    "col_names=[]\n",
    "for x in df.columns:\n",
    "    col_names.append(x)"
   ]
  },
  {
   "cell_type": "code",
   "execution_count": 13,
   "metadata": {
    "scrolled": true
   },
   "outputs": [
    {
     "name": "stdout",
     "output_type": "stream",
     "text": [
      "Id : 1\n",
      "MSSubClass : 60\n",
      "MSZoning : RL\n",
      "LotFrontage : 65.0\n",
      "LotArea : 8450\n",
      "Street : Pave\n",
      "Alley : nan\n",
      "LotShape : Reg\n",
      "LandContour : Lvl\n",
      "Utilities : AllPub\n",
      "LotConfig : Inside\n",
      "LandSlope : Gtl\n",
      "Neighborhood : CollgCr\n",
      "Condition1 : Norm\n",
      "Condition2 : Norm\n",
      "BldgType : 1Fam\n",
      "HouseStyle : 2Story\n",
      "OverallQual : 7\n",
      "OverallCond : 5\n",
      "YearBuilt : 2003\n",
      "YearRemodAdd : 2003\n",
      "RoofStyle : Gable\n",
      "RoofMatl : CompShg\n",
      "Exterior1st : VinylSd\n",
      "Exterior2nd : VinylSd\n",
      "MasVnrType : BrkFace\n",
      "MasVnrArea : 196.0\n",
      "ExterQual : Gd\n",
      "ExterCond : TA\n",
      "Foundation : PConc\n",
      "BsmtQual : Gd\n",
      "BsmtCond : TA\n",
      "BsmtExposure : No\n",
      "BsmtFinType1 : GLQ\n",
      "BsmtFinSF1 : 706\n",
      "BsmtFinType2 : Unf\n",
      "BsmtFinSF2 : 0\n",
      "BsmtUnfSF : 150\n",
      "TotalBsmtSF : 856\n",
      "Heating : GasA\n",
      "HeatingQC : Ex\n",
      "CentralAir : Y\n",
      "Electrical : SBrkr\n",
      "1stFlrSF : 856\n",
      "2ndFlrSF : 854\n",
      "LowQualFinSF : 0\n",
      "GrLivArea : 1710\n",
      "BsmtFullBath : 1\n",
      "BsmtHalfBath : 0\n",
      "FullBath : 2\n",
      "HalfBath : 1\n",
      "BedroomAbvGr : 3\n",
      "KitchenAbvGr : 1\n",
      "KitchenQual : Gd\n",
      "TotRmsAbvGrd : 8\n",
      "Functional : Typ\n",
      "Fireplaces : 0\n",
      "FireplaceQu : nan\n",
      "GarageType : Attchd\n",
      "GarageYrBlt : 2003.0\n",
      "GarageFinish : RFn\n",
      "GarageCars : 2\n",
      "GarageArea : 548\n",
      "GarageQual : TA\n",
      "GarageCond : TA\n",
      "PavedDrive : Y\n",
      "WoodDeckSF : 0\n",
      "OpenPorchSF : 61\n",
      "EnclosedPorch : 0\n",
      "3SsnPorch : 0\n",
      "ScreenPorch : 0\n",
      "PoolArea : 0\n",
      "PoolQC : nan\n",
      "Fence : nan\n",
      "MiscFeature : nan\n",
      "MiscVal : 0\n",
      "MoSold : 2\n",
      "YrSold : 2008\n",
      "SaleType : WD\n",
      "SaleCondition : Normal\n",
      "SalePrice : 208500\n"
     ]
    }
   ],
   "source": [
    "# voir le contenu des colonnes\n",
    "index=0\n",
    "for i in (df.loc[0]):\n",
    "    print(str(col_names[index])+\" : \"+str(i))\n",
    "    index+=1"
   ]
  },
  {
   "cell_type": "markdown",
   "metadata": {},
   "source": [
    "### Average sale price following the overall quality of the real estate"
   ]
  },
  {
   "cell_type": "code",
   "execution_count": 27,
   "metadata": {
    "scrolled": false
   },
   "outputs": [
    {
     "name": "stderr",
     "output_type": "stream",
     "text": [
      "C:\\Users\\thoma\\anaconda3\\lib\\site-packages\\seaborn\\_decorators.py:36: FutureWarning: Pass the following variables as keyword args: x, y. From version 0.12, the only valid positional argument will be `data`, and passing other arguments without an explicit keyword will result in an error or misinterpretation.\n",
      "  warnings.warn(\n"
     ]
    },
    {
     "data": {
      "text/plain": [
       "<AxesSubplot:xlabel='OverallQual', ylabel='SalePrice'>"
      ]
     },
     "execution_count": 27,
     "metadata": {},
     "output_type": "execute_result"
    },
    {
     "data": {
      "image/png": "[encoded data removed]",
      "text/plain": [
       "<Figure size 432x288 with 1 Axes>"
      ]
     },
     "metadata": {
      "needs_background": "light"
     },
     "output_type": "display_data"
    }
   ],
   "source": [
    "sns.barplot(df.groupby('OverallQual').mean()['SalePrice'].index,df.groupby('OverallQual').mean()['SalePrice'], palette='coolwarm')"
   ]
  },
  {
   "cell_type": "markdown",
   "metadata": {},
   "source": [
    "### Average sale price following the year of construction of the real estate"
   ]
  },
  {
   "cell_type": "code",
   "execution_count": 33,
   "metadata": {},
   "outputs": [
    {
     "data": {
      "text/plain": [
       "<AxesSubplot:xlabel='YearBuilt'>"
      ]
     },
     "execution_count": 33,
     "metadata": {},
     "output_type": "execute_result"
    },
    {
     "data": {
      "image/png": "[encoded data removed]",
      "text/plain": [
       "<Figure size 504x504 with 1 Axes>"
      ]
     },
     "metadata": {
      "needs_background": "light"
     },
     "output_type": "display_data"
    }
   ],
   "source": [
    "df.groupby('YearBuilt').mean()['SalePrice'].plot(figsize=(7,7))"
   ]
  },
  {
   "cell_type": "markdown",
   "metadata": {},
   "source": [
    "# Step 2 : Data Preparation"
   ]
  },
  {
   "cell_type": "code",
   "execution_count": 50,
   "metadata": {},
   "outputs": [],
   "source": [
    "col_obj=[]\n",
    "for col in df:\n",
    "    if df[col].dtypes == \"object\":\n",
    "        col_obj.append(col)\n"
   ]
  },
  {
   "cell_type": "code",
   "execution_count": 84,
   "metadata": {},
   "outputs": [],
   "source": [
    "df_final=df.drop(columns=col_obj)"
   ]
  },
  {
   "cell_type": "code",
   "execution_count": 85,
   "metadata": {
    "scrolled": true
   },
   "outputs": [
    {
     "name": "stdout",
     "output_type": "stream",
     "text": [
      "(1460, 38)\n"
     ]
    }
   ],
   "source": [
    "initial_size = df_final.shape\n",
    "print(initial_size)"
   ]
  },
  {
   "cell_type": "code",
   "execution_count": 86,
   "metadata": {},
   "outputs": [],
   "source": [
    "df_final=df_final.dropna() # drop rows where we find na values, choose not to replace by 0 because it can falsify the model "
   ]
  },
  {
   "cell_type": "code",
   "execution_count": 87,
   "metadata": {
    "scrolled": true
   },
   "outputs": [
    {
     "name": "stdout",
     "output_type": "stream",
     "text": [
      "(1121, 38)\n"
     ]
    }
   ],
   "source": [
    "actual_size=df_final.shape \n",
    "print(actual_size)"
   ]
  },
  {
   "cell_type": "code",
   "execution_count": 88,
   "metadata": {},
   "outputs": [
    {
     "name": "stdout",
     "output_type": "stream",
     "text": [
      "There were 339 rows that were dropped because there were na values inside\n"
     ]
    }
   ],
   "source": [
    "print(f'There were {initial_size[0]-actual_size[0]} rows that were dropped because there were na values inside')"
   ]
  },
  {
   "cell_type": "code",
   "execution_count": 89,
   "metadata": {},
   "outputs": [],
   "source": [
    "X=df_final.drop(['SalePrice'],axis=1)"
   ]
  },
  {
   "cell_type": "code",
   "execution_count": 90,
   "metadata": {},
   "outputs": [],
   "source": [
    "y=df_final['SalePrice']"
   ]
  },
  {
   "cell_type": "code",
   "execution_count": 91,
   "metadata": {},
   "outputs": [
    {
     "data": {
      "text/html": [
       "<div>\n",
       "<style scoped>\n",
       "    .dataframe tbody tr th:only-of-type {\n",
       "        vertical-align: middle;\n",
       "    }\n",
       "\n",
       "    .dataframe tbody tr th {\n",
       "        vertical-align: top;\n",
       "    }\n",
       "\n",
       "    .dataframe thead th {\n",
       "        text-align: right;\n",
       "    }\n",
       "</style>\n",
       "<table border=\"1\" class=\"dataframe\">\n",
       "  <thead>\n",
       "    <tr style=\"text-align: right;\">\n",
       "      <th></th>\n",
       "      <th>SalePrice</th>\n",
       "    </tr>\n",
       "  </thead>\n",
       "  <tbody>\n",
       "    <tr>\n",
       "      <th>count</th>\n",
       "      <td>1121.000000</td>\n",
       "    </tr>\n",
       "    <tr>\n",
       "      <th>mean</th>\n",
       "      <td>185506.152542</td>\n",
       "    </tr>\n",
       "    <tr>\n",
       "      <th>std</th>\n",
       "      <td>82999.159004</td>\n",
       "    </tr>\n",
       "    <tr>\n",
       "      <th>min</th>\n",
       "      <td>35311.000000</td>\n",
       "    </tr>\n",
       "    <tr>\n",
       "      <th>25%</th>\n",
       "      <td>131000.000000</td>\n",
       "    </tr>\n",
       "    <tr>\n",
       "      <th>50%</th>\n",
       "      <td>164900.000000</td>\n",
       "    </tr>\n",
       "    <tr>\n",
       "      <th>75%</th>\n",
       "      <td>219500.000000</td>\n",
       "    </tr>\n",
       "    <tr>\n",
       "      <th>max</th>\n",
       "      <td>755000.000000</td>\n",
       "    </tr>\n",
       "  </tbody>\n",
       "</table>\n",
       "</div>"
      ],
      "text/plain": [
       "           SalePrice\n",
       "count    1121.000000\n",
       "mean   185506.152542\n",
       "std     82999.159004\n",
       "min     35311.000000\n",
       "25%    131000.000000\n",
       "50%    164900.000000\n",
       "75%    219500.000000\n",
       "max    755000.000000"
      ]
     },
     "execution_count": 91,
     "metadata": {},
     "output_type": "execute_result"
    }
   ],
   "source": [
    "pd.DataFrame(y.describe())"
   ]
  },
  {
   "cell_type": "markdown",
   "metadata": {},
   "source": [
    "# Step 3 : Modeling & Tuning"
   ]
  },
  {
   "cell_type": "code",
   "execution_count": 107,
   "metadata": {},
   "outputs": [],
   "source": [
    "#Libraries\n",
    "from sklearn.model_selection import train_test_split\n",
    "from sklearn import preprocessing\n",
    "from sklearn import linear_model\n",
    "from sklearn.metrics import r2_score,mean_squared_error\n",
    "from sklearn.model_selection import GridSearchCV\n",
    "from sklearn.ensemble import RandomForestRegressor\n",
    "from sklearn.ensemble import ExtraTreesRegressor\n",
    "# check xgboost version\n",
    "import xgboost"
   ]
  },
  {
   "cell_type": "code",
   "execution_count": 93,
   "metadata": {},
   "outputs": [],
   "source": [
    "reporting={} #reporting of the models metrics"
   ]
  },
  {
   "cell_type": "code",
   "execution_count": 94,
   "metadata": {},
   "outputs": [],
   "source": [
    "X_train,X_test,y_train,y_test=train_test_split(X,y,test_size=0.25)"
   ]
  },
  {
   "cell_type": "markdown",
   "metadata": {},
   "source": [
    "## Multiple Linear Regression"
   ]
  },
  {
   "cell_type": "code",
   "execution_count": 95,
   "metadata": {},
   "outputs": [],
   "source": [
    "regr = linear_model.LinearRegression()\n",
    "fitregr=regr.fit(X_train, y_train)\n",
    "predregrtrain=fitregr.predict(X_train)\n",
    "predregrtest=fitregr.predict(X_test)"
   ]
  },
  {
   "cell_type": "code",
   "execution_count": 96,
   "metadata": {},
   "outputs": [
    {
     "name": "stdout",
     "output_type": "stream",
     "text": [
      "The equation of this Linear Regression has format : y= coefficient*Features + intercept\n",
      "Linear model intercept: -1310736.9220768714 and the coefficients are: [-1.08728117e+00 -1.89360275e+02 -9.89740788e+01  4.67544123e-01\n",
      "  1.83702486e+04  4.11944424e+03  3.55323272e+02  1.91359397e+02\n",
      "  3.57348008e+01  4.51433994e+00  6.65789590e+00 -4.73996937e+00\n",
      "  6.43226646e+00  1.39500220e+01  1.32558890e+01 -9.35038755e+00\n",
      "  1.78555234e+01  1.10111941e+04  4.73070814e+03  7.39256941e+03\n",
      "  9.19760647e+02 -6.94371318e+03 -1.79660885e+04  6.79100428e+03\n",
      "  5.65061839e+03 -1.30907223e+02  1.36575103e+04  1.63922258e+01\n",
      "  2.70813008e+01  1.24818269e+01  2.88141732e+01  4.94057087e+01\n",
      "  6.43293937e+01 -1.63049403e+02 -8.39560822e-01 -3.20407482e+02\n",
      "  2.13515033e+02]\n"
     ]
    }
   ],
   "source": [
    "print('The equation of this Linear Regression has format : y= coefficient*Features + intercept')\n",
    "print('Linear model intercept: {} and the coefficients are: {}'\n",
    "     .format(fitregr.intercept_,fitregr.coef_))"
   ]
  },
  {
   "cell_type": "code",
   "execution_count": 102,
   "metadata": {},
   "outputs": [
    {
     "name": "stdout",
     "output_type": "stream",
     "text": [
      "Linear model, R2 train score is : 0.798954321093985 and the train root mean square is: 35084.87\n",
      "Linear model, R2 test score is : 0.8007136317640099 and the test root mean square is: 42390.18\n"
     ]
    }
   ],
   "source": [
    "train_set_rmse = (np.sqrt(mean_squared_error(predregrtrain,y_train )))\n",
    "train_set_r2 = r2_score(y_train, predregrtrain)\n",
    "print('Linear model, R2 train score is : {} and the train root mean square is: {}'\n",
    "     .format(train_set_r2,round(train_set_rmse,2)))\n",
    "\n",
    "test_set_rmse = (np.sqrt(mean_squared_error(predregrtest,y_test )))\n",
    "test_set_r2 = r2_score(y_test, predregrtest)\n",
    "print('Linear model, R2 test score is : {} and the test root mean square is: {}'\n",
    "     .format(test_set_r2,round(test_set_rmse,2)))"
   ]
  },
  {
   "cell_type": "code",
   "execution_count": 100,
   "metadata": {},
   "outputs": [],
   "source": [
    "reporting['Linear regression']=test_set_r2"
   ]
  },
  {
   "cell_type": "markdown",
   "metadata": {},
   "source": [
    "### Random Forest Regressor "
   ]
  },
  {
   "cell_type": "code",
   "execution_count": 108,
   "metadata": {},
   "outputs": [],
   "source": [
    "scalerTrain = preprocessing.StandardScaler().fit(X_train)\n",
    "scalerTest = preprocessing.StandardScaler().fit(X_test)\n",
    "X_train_Scaled=scalerTrain.transform(X_train)\n",
    "X_test_Scaled=scalerTest.transform(X_test)"
   ]
  },
  {
   "cell_type": "code",
   "execution_count": 109,
   "metadata": {},
   "outputs": [],
   "source": [
    "randomForestAlgo = RandomForestRegressor()\n",
    "\n",
    "param = {'n_estimators' : [int(x) for x in np.linspace(start=80,stop=100, num=10)], \n",
    "         'max_depth' : [80,90,100],\n",
    "         'min_samples_split':[4,8],\n",
    "         'min_samples_leaf':[2,4],\n",
    "         'bootstrap' : [True,False]\n",
    "        }\n",
    "gridSearch_RandomForest=GridSearchCV(randomForestAlgo,param,scoring='r2',cv=5)\n",
    "gridSearch_RandomForest.fit(X_train_Scaled,y_train)\n",
    "\n",
    "best_randomForest=gridSearch_RandomForest.best_estimator_\n",
    "bestRandomForest_testScore=best_randomForest.score(X_test_Scaled,y_test)"
   ]
  },
  {
   "cell_type": "code",
   "execution_count": 110,
   "metadata": {},
   "outputs": [
    {
     "name": "stdout",
     "output_type": "stream",
     "text": [
      "The best Random Forest R2 train score is : 0.80 with n estimators = 86.00, max depth : 100.00, min samples split : 4 and min samples leaf : 2  \n",
      " \n",
      "The best Random Forest R2 test score is : 0.85 with n estimators = 86.00, max depth : 100.00, min samples split : 4 and min samples leaf : 2  \n",
      " \n"
     ]
    }
   ],
   "source": [
    "\n",
    "print('The best Random Forest R2 train score is : {:.2f} with n estimators = {:.2f}, max depth : {:.2f}, min samples split : {} and min samples leaf : {}  \\n \\\n",
    "'.format(gridSearch_RandomForest.best_score_,gridSearch_RandomForest.best_params_['n_estimators'],gridSearch_RandomForest.best_params_['max_depth'],gridSearch_RandomForest.best_params_['min_samples_split'],gridSearch_RandomForest.best_params_['min_samples_leaf'] ))\n",
    "print('The best Random Forest R2 test score is : {:.2f} with n estimators = {:.2f}, max depth : {:.2f}, min samples split : {} and min samples leaf : {}  \\n \\\n",
    "'.format(bestRandomForest_testScore,gridSearch_RandomForest.best_params_['n_estimators'],gridSearch_RandomForest.best_params_['max_depth'],gridSearch_RandomForest.best_params_['min_samples_split'],gridSearch_RandomForest.best_params_['min_samples_leaf'] ))"
   ]
  },
  {
   "cell_type": "code",
   "execution_count": 111,
   "metadata": {},
   "outputs": [],
   "source": [
    "reporting['Random Forest Regression']=bestRandomForest_testScore"
   ]
  },
  {
   "cell_type": "markdown",
   "metadata": {},
   "source": [
    "### XG Boost"
   ]
  },
  {
   "cell_type": "code",
   "execution_count": 115,
   "metadata": {},
   "outputs": [],
   "source": [
    "xgboost_model = xgboost.XGBRegressor()\n",
    "\n",
    "param = {'n_estimators' : [int(x) for x in np.linspace(start=80,stop=100, num=10)], \n",
    "         'max_depth' : [80,90,100],\n",
    "        }\n",
    "gridSearch_xgboost=GridSearchCV(xgboost_model,param,scoring='r2',cv=5)\n",
    "gridSearch_xgboost.fit(X_train_Scaled,y_train)\n",
    "\n",
    "best_xgboost=gridSearch_xgboost.best_estimator_\n",
    "bestxgboost_testScore=best_xgboost.score(X_test_Scaled,y_test)"
   ]
  },
  {
   "cell_type": "code",
   "execution_count": 119,
   "metadata": {},
   "outputs": [],
   "source": [
    "reporting['XG Boost regression']=bestxgboost_testScore"
   ]
  },
  {
   "cell_type": "markdown",
   "metadata": {},
   "source": [
    "### Extra Trees"
   ]
  },
  {
   "cell_type": "code",
   "execution_count": 120,
   "metadata": {},
   "outputs": [],
   "source": [
    "extraTreesAlgo = ExtraTreesRegressor()\n",
    "\n",
    "param = {'n_estimators' : [int(x) for x in np.linspace(start=150,stop=170, num=10)], \n",
    "         'max_depth' : [90,100],\n",
    "         'min_samples_split':[6,8],\n",
    "         'min_samples_leaf':[3,4],\n",
    "         'bootstrap' : [True,False]\n",
    "        }\n",
    "\n",
    "gridSearch_ExtraTrees=GridSearchCV(extraTreesAlgo,param,scoring='r2',cv=5)\n",
    "gridSearch_ExtraTrees.fit(X_train_Scaled,y_train)\n",
    "\n",
    "best_ExtrasTrees=gridSearch_ExtraTrees.best_estimator_\n",
    "bestExtrasTrees_testScore=best_ExtrasTrees.score(X_test_Scaled,y_test)"
   ]
  },
  {
   "cell_type": "code",
   "execution_count": 121,
   "metadata": {},
   "outputs": [
    {
     "name": "stdout",
     "output_type": "stream",
     "text": [
      "The best Random Forest R2 score is : 0.81 with n estimators = 150.00, max depth : 90.00, min samples split : 8 and min samples leaf : 4  \n",
      " \n",
      "The best Random Forest R2 test score is : 0.82 with n estimators = 150.00, max depth : 90.00, min samples split : 8 and min samples leaf : 4  \n",
      " \n"
     ]
    }
   ],
   "source": [
    "print('The best Random Forest R2 score is : {:.2f} with n estimators = {:.2f}, max depth : {:.2f}, min samples split : {} and min samples leaf : {}  \\n \\\n",
    "'.format(gridSearch_ExtraTrees.best_score_,gridSearch_ExtraTrees.best_params_['n_estimators'],gridSearch_ExtraTrees.best_params_['max_depth'],gridSearch_ExtraTrees.best_params_['min_samples_split'],gridSearch_ExtraTrees.best_params_['min_samples_leaf'] ))\n",
    "print('The best Random Forest R2 test score is : {:.2f} with n estimators = {:.2f}, max depth : {:.2f}, min samples split : {} and min samples leaf : {}  \\n \\\n",
    "'.format(bestExtrasTrees_testScore,gridSearch_ExtraTrees.best_params_['n_estimators'],gridSearch_ExtraTrees.best_params_['max_depth'],gridSearch_ExtraTrees.best_params_['min_samples_split'],gridSearch_ExtraTrees.best_params_['min_samples_leaf'] ))"
   ]
  },
  {
   "cell_type": "code",
   "execution_count": 122,
   "metadata": {},
   "outputs": [],
   "source": [
    "reporting['Extra Trees Regressor']=bestExtrasTrees_testScore"
   ]
  },
  {
   "cell_type": "markdown",
   "metadata": {},
   "source": [
    "# Reporting models results without minimum important features"
   ]
  },
  {
   "cell_type": "code",
   "execution_count": 123,
   "metadata": {},
   "outputs": [],
   "source": [
    "df_results=pd.DataFrame()\n",
    "df_results['model']=reporting.keys()\n",
    "df_results['Score R2']=reporting.values()"
   ]
  },
  {
   "cell_type": "code",
   "execution_count": 124,
   "metadata": {},
   "outputs": [],
   "source": [
    "df_results=df_results.set_index('model')"
   ]
  },
  {
   "cell_type": "code",
   "execution_count": 125,
   "metadata": {
    "scrolled": false
   },
   "outputs": [
    {
     "data": {
      "text/html": [
       "<style  type=\"text/css\" >\n",
       "#T_b974f520_452a_11ec_ba2d_e02be9f13799row0_col0{\n",
       "            background-color:  #ff0000;\n",
       "            color:  #f1f1f1;\n",
       "        }#T_b974f520_452a_11ec_ba2d_e02be9f13799row1_col0{\n",
       "            background-color:  #fb5656;\n",
       "            color:  #000000;\n",
       "        }#T_b974f520_452a_11ec_ba2d_e02be9f13799row2_col0{\n",
       "            background-color:  #f7a8a7;\n",
       "            color:  #000000;\n",
       "        }#T_b974f520_452a_11ec_ba2d_e02be9f13799row3_col0{\n",
       "            background-color:  #f3f0f0;\n",
       "            color:  #000000;\n",
       "        }</style><table id=\"T_b974f520_452a_11ec_ba2d_e02be9f13799\" ><thead>    <tr>        <th class=\"blank level0\" ></th>        <th class=\"col_heading level0 col0\" >Score R2</th>    </tr>    <tr>        <th class=\"index_name level0\" >model</th>        <th class=\"blank\" ></th>    </tr></thead><tbody>\n",
       "                <tr>\n",
       "                        <th id=\"T_b974f520_452a_11ec_ba2d_e02be9f13799level0_row0\" class=\"row_heading level0 row0\" >XG Boost regression</th>\n",
       "                        <td id=\"T_b974f520_452a_11ec_ba2d_e02be9f13799row0_col0\" class=\"data row0 col0\" >0.872517</td>\n",
       "            </tr>\n",
       "            <tr>\n",
       "                        <th id=\"T_b974f520_452a_11ec_ba2d_e02be9f13799level0_row1\" class=\"row_heading level0 row1\" >Random Forest Regression</th>\n",
       "                        <td id=\"T_b974f520_452a_11ec_ba2d_e02be9f13799row1_col0\" class=\"data row1 col0\" >0.846871</td>\n",
       "            </tr>\n",
       "            <tr>\n",
       "                        <th id=\"T_b974f520_452a_11ec_ba2d_e02be9f13799level0_row2\" class=\"row_heading level0 row2\" >Extra Trees Regressor</th>\n",
       "                        <td id=\"T_b974f520_452a_11ec_ba2d_e02be9f13799row2_col0\" class=\"data row2 col0\" >0.822541</td>\n",
       "            </tr>\n",
       "            <tr>\n",
       "                        <th id=\"T_b974f520_452a_11ec_ba2d_e02be9f13799level0_row3\" class=\"row_heading level0 row3\" >Linear regression</th>\n",
       "                        <td id=\"T_b974f520_452a_11ec_ba2d_e02be9f13799row3_col0\" class=\"data row3 col0\" >0.800714</td>\n",
       "            </tr>\n",
       "    </tbody></table>"
      ],
      "text/plain": [
       "<pandas.io.formats.style.Styler at 0x2a19de221c0>"
      ]
     },
     "execution_count": 125,
     "metadata": {},
     "output_type": "execute_result"
    }
   ],
   "source": [
    "dfVizModels=pd.DataFrame(df_results['Score R2'].sort_values(ascending=False))\n",
    "dfVizModels.style.background_gradient(cmap=sns.light_palette(\"red\", as_cmap=True))"
   ]
  },
  {
   "cell_type": "markdown",
   "metadata": {},
   "source": [
    "<br><br><br>\n",
    "# Now Same process and same modelisation with important features"
   ]
  },
  {
   "cell_type": "code",
   "execution_count": 136,
   "metadata": {},
   "outputs": [],
   "source": [
    "#Correlation of columns to the target\n",
    "df1Corr=pd.DataFrame(df.corr().unstack().sort_values(ascending=False)['SalePrice'],columns=['Correlation to the target'])\n",
    "list_col_important=df1Corr.index[:12]"
   ]
  },
  {
   "cell_type": "code",
   "execution_count": 138,
   "metadata": {},
   "outputs": [
    {
     "data": {
      "text/html": [
       "<div>\n",
       "<style scoped>\n",
       "    .dataframe tbody tr th:only-of-type {\n",
       "        vertical-align: middle;\n",
       "    }\n",
       "\n",
       "    .dataframe tbody tr th {\n",
       "        vertical-align: top;\n",
       "    }\n",
       "\n",
       "    .dataframe thead th {\n",
       "        text-align: right;\n",
       "    }\n",
       "</style>\n",
       "<table border=\"1\" class=\"dataframe\">\n",
       "  <thead>\n",
       "    <tr style=\"text-align: right;\">\n",
       "      <th></th>\n",
       "      <th>SalePrice</th>\n",
       "      <th>OverallQual</th>\n",
       "      <th>GrLivArea</th>\n",
       "      <th>GarageCars</th>\n",
       "      <th>GarageArea</th>\n",
       "      <th>TotalBsmtSF</th>\n",
       "      <th>1stFlrSF</th>\n",
       "      <th>FullBath</th>\n",
       "      <th>TotRmsAbvGrd</th>\n",
       "      <th>YearBuilt</th>\n",
       "      <th>YearRemodAdd</th>\n",
       "      <th>GarageYrBlt</th>\n",
       "    </tr>\n",
       "  </thead>\n",
       "  <tbody>\n",
       "    <tr>\n",
       "      <th>0</th>\n",
       "      <td>208500</td>\n",
       "      <td>7</td>\n",
       "      <td>1710</td>\n",
       "      <td>2</td>\n",
       "      <td>548</td>\n",
       "      <td>856</td>\n",
       "      <td>856</td>\n",
       "      <td>2</td>\n",
       "      <td>8</td>\n",
       "      <td>2003</td>\n",
       "      <td>2003</td>\n",
       "      <td>2003.0</td>\n",
       "    </tr>\n",
       "    <tr>\n",
       "      <th>1</th>\n",
       "      <td>181500</td>\n",
       "      <td>6</td>\n",
       "      <td>1262</td>\n",
       "      <td>2</td>\n",
       "      <td>460</td>\n",
       "      <td>1262</td>\n",
       "      <td>1262</td>\n",
       "      <td>2</td>\n",
       "      <td>6</td>\n",
       "      <td>1976</td>\n",
       "      <td>1976</td>\n",
       "      <td>1976.0</td>\n",
       "    </tr>\n",
       "    <tr>\n",
       "      <th>2</th>\n",
       "      <td>223500</td>\n",
       "      <td>7</td>\n",
       "      <td>1786</td>\n",
       "      <td>2</td>\n",
       "      <td>608</td>\n",
       "      <td>920</td>\n",
       "      <td>920</td>\n",
       "      <td>2</td>\n",
       "      <td>6</td>\n",
       "      <td>2001</td>\n",
       "      <td>2002</td>\n",
       "      <td>2001.0</td>\n",
       "    </tr>\n",
       "    <tr>\n",
       "      <th>3</th>\n",
       "      <td>140000</td>\n",
       "      <td>7</td>\n",
       "      <td>1717</td>\n",
       "      <td>3</td>\n",
       "      <td>642</td>\n",
       "      <td>756</td>\n",
       "      <td>961</td>\n",
       "      <td>1</td>\n",
       "      <td>7</td>\n",
       "      <td>1915</td>\n",
       "      <td>1970</td>\n",
       "      <td>1998.0</td>\n",
       "    </tr>\n",
       "    <tr>\n",
       "      <th>4</th>\n",
       "      <td>250000</td>\n",
       "      <td>8</td>\n",
       "      <td>2198</td>\n",
       "      <td>3</td>\n",
       "      <td>836</td>\n",
       "      <td>1145</td>\n",
       "      <td>1145</td>\n",
       "      <td>2</td>\n",
       "      <td>9</td>\n",
       "      <td>2000</td>\n",
       "      <td>2000</td>\n",
       "      <td>2000.0</td>\n",
       "    </tr>\n",
       "  </tbody>\n",
       "</table>\n",
       "</div>"
      ],
      "text/plain": [
       "   SalePrice  OverallQual  GrLivArea  GarageCars  GarageArea  TotalBsmtSF  \\\n",
       "0     208500            7       1710           2         548          856   \n",
       "1     181500            6       1262           2         460         1262   \n",
       "2     223500            7       1786           2         608          920   \n",
       "3     140000            7       1717           3         642          756   \n",
       "4     250000            8       2198           3         836         1145   \n",
       "\n",
       "   1stFlrSF  FullBath  TotRmsAbvGrd  YearBuilt  YearRemodAdd  GarageYrBlt  \n",
       "0       856         2             8       2003          2003       2003.0  \n",
       "1      1262         2             6       1976          1976       1976.0  \n",
       "2       920         2             6       2001          2002       2001.0  \n",
       "3       961         1             7       1915          1970       1998.0  \n",
       "4      1145         2             9       2000          2000       2000.0  "
      ]
     },
     "execution_count": 138,
     "metadata": {},
     "output_type": "execute_result"
    }
   ],
   "source": [
    "df_final_important=df_final[list_col_important]\n",
    "df_final_important.head()"
   ]
  },
  {
   "cell_type": "code",
   "execution_count": 139,
   "metadata": {},
   "outputs": [],
   "source": [
    "X=df_final_important.drop(['SalePrice'],axis=1)"
   ]
  },
  {
   "cell_type": "code",
   "execution_count": 140,
   "metadata": {},
   "outputs": [],
   "source": [
    "y=df_final_important['SalePrice']"
   ]
  },
  {
   "cell_type": "markdown",
   "metadata": {},
   "source": [
    "# Modeling with important features"
   ]
  },
  {
   "cell_type": "code",
   "execution_count": 141,
   "metadata": {},
   "outputs": [],
   "source": [
    "reporting_important={} #reporting of the models metrics"
   ]
  },
  {
   "cell_type": "code",
   "execution_count": 142,
   "metadata": {},
   "outputs": [],
   "source": [
    "X_train,X_test,y_train,y_test=train_test_split(X,y,test_size=0.25)"
   ]
  },
  {
   "cell_type": "markdown",
   "metadata": {},
   "source": [
    "## Multiple Linear Regression"
   ]
  },
  {
   "cell_type": "code",
   "execution_count": 143,
   "metadata": {},
   "outputs": [],
   "source": [
    "regr = linear_model.LinearRegression()\n",
    "fitregr=regr.fit(X_train, y_train)\n",
    "predregrtrain=fitregr.predict(X_train)\n",
    "predregrtest=fitregr.predict(X_test)"
   ]
  },
  {
   "cell_type": "code",
   "execution_count": 144,
   "metadata": {},
   "outputs": [
    {
     "name": "stdout",
     "output_type": "stream",
     "text": [
      "The equation of this Linear Regression has format : y= coefficient*Features + intercept\n",
      "Linear model intercept: -1088772.475316159 and the coefficients are: [ 2.21621831e+04  3.41484523e+01  1.68756995e+04  1.51789495e+01\n",
      "  1.51078187e+01  9.65700824e+00 -5.60527230e+03  4.04239900e+03\n",
      "  2.94070360e+02  4.23492523e+02 -2.13454919e+02]\n"
     ]
    }
   ],
   "source": [
    "print('The equation of this Linear Regression has format : y= coefficient*Features + intercept')\n",
    "print('Linear model intercept: {} and the coefficients are: {}'\n",
    "     .format(fitregr.intercept_,fitregr.coef_))"
   ]
  },
  {
   "cell_type": "code",
   "execution_count": 145,
   "metadata": {},
   "outputs": [
    {
     "name": "stdout",
     "output_type": "stream",
     "text": [
      "Linear model, R2 train score is : 0.7540282288573278 and the train root mean square is: 39189.7\n",
      "Linear model, R2 test score is : 0.7813613865614679 and the test root mean square is: 43837.29\n"
     ]
    }
   ],
   "source": [
    "train_set_rmse = (np.sqrt(mean_squared_error(predregrtrain,y_train )))\n",
    "train_set_r2 = r2_score(y_train, predregrtrain)\n",
    "print('Linear model, R2 train score is : {} and the train root mean square is: {}'\n",
    "     .format(train_set_r2,round(train_set_rmse,2)))\n",
    "\n",
    "test_set_rmse = (np.sqrt(mean_squared_error(predregrtest,y_test )))\n",
    "test_set_r2 = r2_score(y_test, predregrtest)\n",
    "print('Linear model, R2 test score is : {} and the test root mean square is: {}'\n",
    "     .format(test_set_r2,round(test_set_rmse,2)))"
   ]
  },
  {
   "cell_type": "code",
   "execution_count": 146,
   "metadata": {},
   "outputs": [],
   "source": [
    "reporting_important['Linear regression']=test_set_r2"
   ]
  },
  {
   "cell_type": "markdown",
   "metadata": {},
   "source": [
    "### Random Forest Regressor "
   ]
  },
  {
   "cell_type": "code",
   "execution_count": 147,
   "metadata": {},
   "outputs": [],
   "source": [
    "scalerTrain = preprocessing.StandardScaler().fit(X_train)\n",
    "scalerTest = preprocessing.StandardScaler().fit(X_test)\n",
    "X_train_Scaled=scalerTrain.transform(X_train)\n",
    "X_test_Scaled=scalerTest.transform(X_test)"
   ]
  },
  {
   "cell_type": "code",
   "execution_count": 148,
   "metadata": {},
   "outputs": [],
   "source": [
    "randomForestAlgo = RandomForestRegressor()\n",
    "\n",
    "param = {'n_estimators' : [int(x) for x in np.linspace(start=80,stop=100, num=10)], \n",
    "         'max_depth' : [90,100],\n",
    "         'min_samples_split':[4,8],\n",
    "         'min_samples_leaf':[2,4],\n",
    "         'bootstrap' : [True,False]\n",
    "        }\n",
    "gridSearch_RandomForest=GridSearchCV(randomForestAlgo,param,scoring='r2',cv=5)\n",
    "gridSearch_RandomForest.fit(X_train_Scaled,y_train)\n",
    "\n",
    "best_randomForest=gridSearch_RandomForest.best_estimator_\n",
    "bestRandomForest_testScore=best_randomForest.score(X_test_Scaled,y_test)"
   ]
  },
  {
   "cell_type": "code",
   "execution_count": 149,
   "metadata": {},
   "outputs": [
    {
     "name": "stdout",
     "output_type": "stream",
     "text": [
      "The best Random Forest R2 train score is : 0.80 with n estimators = 86.00, max depth : 100.00, min samples split : 4 and min samples leaf : 2  \n",
      " \n",
      "The best Random Forest R2 test score is : 0.85 with n estimators = 86.00, max depth : 100.00, min samples split : 4 and min samples leaf : 2  \n",
      " \n"
     ]
    }
   ],
   "source": [
    "\n",
    "print('The best Random Forest R2 train score is : {:.2f} with n estimators = {:.2f}, max depth : {:.2f}, min samples split : {} and min samples leaf : {}  \\n \\\n",
    "'.format(gridSearch_RandomForest.best_score_,gridSearch_RandomForest.best_params_['n_estimators'],gridSearch_RandomForest.best_params_['max_depth'],gridSearch_RandomForest.best_params_['min_samples_split'],gridSearch_RandomForest.best_params_['min_samples_leaf'] ))\n",
    "print('The best Random Forest R2 test score is : {:.2f} with n estimators = {:.2f}, max depth : {:.2f}, min samples split : {} and min samples leaf : {}  \\n \\\n",
    "'.format(bestRandomForest_testScore,gridSearch_RandomForest.best_params_['n_estimators'],gridSearch_RandomForest.best_params_['max_depth'],gridSearch_RandomForest.best_params_['min_samples_split'],gridSearch_RandomForest.best_params_['min_samples_leaf'] ))"
   ]
  },
  {
   "cell_type": "code",
   "execution_count": 150,
   "metadata": {},
   "outputs": [],
   "source": [
    "reporting_important['Random Forest Regression']=bestRandomForest_testScore"
   ]
  },
  {
   "cell_type": "markdown",
   "metadata": {},
   "source": [
    "### XG Boost"
   ]
  },
  {
   "cell_type": "code",
   "execution_count": 151,
   "metadata": {},
   "outputs": [],
   "source": [
    "xgboost_model = xgboost.XGBRegressor()\n",
    "\n",
    "param = {'n_estimators' : [int(x) for x in np.linspace(start=80,stop=100, num=10)], \n",
    "         'max_depth' : [80,90,100],\n",
    "        }\n",
    "gridSearch_xgboost=GridSearchCV(xgboost_model,param,scoring='r2',cv=5)\n",
    "gridSearch_xgboost.fit(X_train_Scaled,y_train)\n",
    "\n",
    "best_xgboost=gridSearch_xgboost.best_estimator_\n",
    "bestxgboost_testScore=best_xgboost.score(X_test_Scaled,y_test)"
   ]
  },
  {
   "cell_type": "code",
   "execution_count": 152,
   "metadata": {},
   "outputs": [],
   "source": [
    "reporting_important['XG Boost regression']=bestxgboost_testScore"
   ]
  },
  {
   "cell_type": "markdown",
   "metadata": {},
   "source": [
    "### Extra Trees"
   ]
  },
  {
   "cell_type": "code",
   "execution_count": 153,
   "metadata": {},
   "outputs": [],
   "source": [
    "extraTreesAlgo = ExtraTreesRegressor()\n",
    "\n",
    "param = {'n_estimators' : [int(x) for x in np.linspace(start=150,stop=170, num=10)], \n",
    "         'max_depth' : [90,100],\n",
    "         'min_samples_split':[6,8],\n",
    "         'min_samples_leaf':[3,4],\n",
    "         'bootstrap' : [True,False]\n",
    "        }\n",
    "\n",
    "gridSearch_ExtraTrees=GridSearchCV(extraTreesAlgo,param,scoring='r2',cv=5)\n",
    "gridSearch_ExtraTrees.fit(X_train_Scaled,y_train)\n",
    "\n",
    "best_ExtrasTrees=gridSearch_ExtraTrees.best_estimator_\n",
    "bestExtrasTrees_testScore=best_ExtrasTrees.score(X_test_Scaled,y_test)"
   ]
  },
  {
   "cell_type": "code",
   "execution_count": 154,
   "metadata": {},
   "outputs": [
    {
     "name": "stdout",
     "output_type": "stream",
     "text": [
      "The best Random Forest R2 score is : 0.80 with n estimators = 165.00, max depth : 90.00, min samples split : 8 and min samples leaf : 4  \n",
      " \n",
      "The best Random Forest R2 test score is : 0.85 with n estimators = 165.00, max depth : 90.00, min samples split : 8 and min samples leaf : 4  \n",
      " \n"
     ]
    }
   ],
   "source": [
    "print('The best Random Forest R2 score is : {:.2f} with n estimators = {:.2f}, max depth : {:.2f}, min samples split : {} and min samples leaf : {}  \\n \\\n",
    "'.format(gridSearch_ExtraTrees.best_score_,gridSearch_ExtraTrees.best_params_['n_estimators'],gridSearch_ExtraTrees.best_params_['max_depth'],gridSearch_ExtraTrees.best_params_['min_samples_split'],gridSearch_ExtraTrees.best_params_['min_samples_leaf'] ))\n",
    "print('The best Random Forest R2 test score is : {:.2f} with n estimators = {:.2f}, max depth : {:.2f}, min samples split : {} and min samples leaf : {}  \\n \\\n",
    "'.format(bestExtrasTrees_testScore,gridSearch_ExtraTrees.best_params_['n_estimators'],gridSearch_ExtraTrees.best_params_['max_depth'],gridSearch_ExtraTrees.best_params_['min_samples_split'],gridSearch_ExtraTrees.best_params_['min_samples_leaf'] ))"
   ]
  },
  {
   "cell_type": "code",
   "execution_count": 155,
   "metadata": {},
   "outputs": [],
   "source": [
    "reporting_important['Extra Trees Regressor']=bestExtrasTrees_testScore"
   ]
  },
  {
   "cell_type": "markdown",
   "metadata": {},
   "source": [
    "# Reporting models results with minimum important features"
   ]
  },
  {
   "cell_type": "code",
   "execution_count": 156,
   "metadata": {},
   "outputs": [],
   "source": [
    "df_results=pd.DataFrame()\n",
    "df_results['model']=reporting_important.keys()\n",
    "df_results['Score R2']=reporting_important.values()"
   ]
  },
  {
   "cell_type": "code",
   "execution_count": 157,
   "metadata": {},
   "outputs": [],
   "source": [
    "df_results=df_results.set_index('model')"
   ]
  },
  {
   "cell_type": "code",
   "execution_count": 158,
   "metadata": {
    "scrolled": false
   },
   "outputs": [
    {
     "data": {
      "text/html": [
       "<style  type=\"text/css\" >\n",
       "#T_ea74d302_4592_11ec_a0aa_e02be9f13799row0_col0{\n",
       "            background-color:  #ff0000;\n",
       "            color:  #f1f1f1;\n",
       "        }#T_ea74d302_4592_11ec_a0aa_e02be9f13799row1_col0{\n",
       "            background-color:  #fc4545;\n",
       "            color:  #000000;\n",
       "        }#T_ea74d302_4592_11ec_a0aa_e02be9f13799row2_col0{\n",
       "            background-color:  #fb4e4e;\n",
       "            color:  #000000;\n",
       "        }#T_ea74d302_4592_11ec_a0aa_e02be9f13799row3_col0{\n",
       "            background-color:  #f3f0f0;\n",
       "            color:  #000000;\n",
       "        }</style><table id=\"T_ea74d302_4592_11ec_a0aa_e02be9f13799\" ><thead>    <tr>        <th class=\"blank level0\" ></th>        <th class=\"col_heading level0 col0\" >Score R2</th>    </tr>    <tr>        <th class=\"index_name level0\" >model</th>        <th class=\"blank\" ></th>    </tr></thead><tbody>\n",
       "                <tr>\n",
       "                        <th id=\"T_ea74d302_4592_11ec_a0aa_e02be9f13799level0_row0\" class=\"row_heading level0 row0\" >XG Boost regression</th>\n",
       "                        <td id=\"T_ea74d302_4592_11ec_a0aa_e02be9f13799row0_col0\" class=\"data row0 col0\" >0.882891</td>\n",
       "            </tr>\n",
       "            <tr>\n",
       "                        <th id=\"T_ea74d302_4592_11ec_a0aa_e02be9f13799level0_row1\" class=\"row_heading level0 row1\" >Extra Trees Regressor</th>\n",
       "                        <td id=\"T_ea74d302_4592_11ec_a0aa_e02be9f13799row1_col0\" class=\"data row1 col0\" >0.853611</td>\n",
       "            </tr>\n",
       "            <tr>\n",
       "                        <th id=\"T_ea74d302_4592_11ec_a0aa_e02be9f13799level0_row2\" class=\"row_heading level0 row2\" >Random Forest Regression</th>\n",
       "                        <td id=\"T_ea74d302_4592_11ec_a0aa_e02be9f13799row2_col0\" class=\"data row2 col0\" >0.849791</td>\n",
       "            </tr>\n",
       "            <tr>\n",
       "                        <th id=\"T_ea74d302_4592_11ec_a0aa_e02be9f13799level0_row3\" class=\"row_heading level0 row3\" >Linear regression</th>\n",
       "                        <td id=\"T_ea74d302_4592_11ec_a0aa_e02be9f13799row3_col0\" class=\"data row3 col0\" >0.781361</td>\n",
       "            </tr>\n",
       "    </tbody></table>"
      ],
      "text/plain": [
       "<pandas.io.formats.style.Styler at 0x2a19da20d90>"
      ]
     },
     "execution_count": 158,
     "metadata": {},
     "output_type": "execute_result"
    }
   ],
   "source": [
    "dfVizModels=pd.DataFrame(df_results['Score R2'].sort_values(ascending=False))\n",
    "dfVizModels.style.background_gradient(cmap=sns.light_palette(\"red\", as_cmap=True))"
   ]
  }
 ],
 "metadata": {
  "kernelspec": {
   "display_name": "Python 3",
   "language": "python",
   "name": "python3"
  },
  "language_info": {
   "codemirror_mode": {
    "name": "ipython",
    "version": 3
   },
   "file_extension": ".py",
   "mimetype": "text/x-python",
   "name": "python",
   "nbconvert_exporter": "python",
   "pygments_lexer": "ipython3",
   "version": "3.8.5"
  }
 },
 "nbformat": 4,
 "nbformat_minor": 4
}
